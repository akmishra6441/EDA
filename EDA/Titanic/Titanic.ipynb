{
 "cells": [
  {
   "cell_type": "code",
   "execution_count": 1,
   "id": "df7f6dae-f31a-477c-ba7c-88884b4a3766",
   "metadata": {},
   "outputs": [],
   "source": [
    "import pandas as pd\n",
    "import numpy as np\n",
    "import matplotlib.pyplot as plt\n",
    "import seaborn as sns\n",
    "from sklearn.model_selection import train_test_split as tts\n",
    "from sklearn.linear_model import LogisticRegression\n",
    "import warnings\n",
    "warnings.filterwarnings(\"ignore\")"
   ]
  },
  {
   "cell_type": "code",
   "execution_count": 2,
   "id": "a922fb17-e7c9-4727-b128-31e8cfa849f4",
   "metadata": {},
   "outputs": [],
   "source": [
    "data = pd.read_csv(\"titanic.csv\")"
   ]
  },
  {
   "cell_type": "code",
   "execution_count": 3,
   "id": "1145260d-7baf-4f69-9554-15cfff635b27",
   "metadata": {},
   "outputs": [
    {
     "data": {
      "text/html": [
       "<div>\n",
       "<style scoped>\n",
       "    .dataframe tbody tr th:only-of-type {\n",
       "        vertical-align: middle;\n",
       "    }\n",
       "\n",
       "    .dataframe tbody tr th {\n",
       "        vertical-align: top;\n",
       "    }\n",
       "\n",
       "    .dataframe thead th {\n",
       "        text-align: right;\n",
       "    }\n",
       "</style>\n",
       "<table border=\"1\" class=\"dataframe\">\n",
       "  <thead>\n",
       "    <tr style=\"text-align: right;\">\n",
       "      <th></th>\n",
       "      <th>PassengerId</th>\n",
       "      <th>Survived</th>\n",
       "      <th>Pclass</th>\n",
       "      <th>Name</th>\n",
       "      <th>Sex</th>\n",
       "      <th>Age</th>\n",
       "      <th>SibSp</th>\n",
       "      <th>Parch</th>\n",
       "      <th>Ticket</th>\n",
       "      <th>Fare</th>\n",
       "      <th>Cabin</th>\n",
       "      <th>Embarked</th>\n",
       "    </tr>\n",
       "  </thead>\n",
       "  <tbody>\n",
       "    <tr>\n",
       "      <th>0</th>\n",
       "      <td>1</td>\n",
       "      <td>0</td>\n",
       "      <td>3</td>\n",
       "      <td>Braund, Mr. Owen Harris</td>\n",
       "      <td>male</td>\n",
       "      <td>22.0</td>\n",
       "      <td>1</td>\n",
       "      <td>0</td>\n",
       "      <td>A/5 21171</td>\n",
       "      <td>7.2500</td>\n",
       "      <td>NaN</td>\n",
       "      <td>S</td>\n",
       "    </tr>\n",
       "    <tr>\n",
       "      <th>1</th>\n",
       "      <td>2</td>\n",
       "      <td>1</td>\n",
       "      <td>1</td>\n",
       "      <td>Cumings, Mrs. John Bradley (Florence Briggs Th...</td>\n",
       "      <td>female</td>\n",
       "      <td>38.0</td>\n",
       "      <td>1</td>\n",
       "      <td>0</td>\n",
       "      <td>PC 17599</td>\n",
       "      <td>71.2833</td>\n",
       "      <td>C85</td>\n",
       "      <td>C</td>\n",
       "    </tr>\n",
       "    <tr>\n",
       "      <th>2</th>\n",
       "      <td>3</td>\n",
       "      <td>1</td>\n",
       "      <td>3</td>\n",
       "      <td>Heikkinen, Miss. Laina</td>\n",
       "      <td>female</td>\n",
       "      <td>26.0</td>\n",
       "      <td>0</td>\n",
       "      <td>0</td>\n",
       "      <td>STON/O2. 3101282</td>\n",
       "      <td>7.9250</td>\n",
       "      <td>NaN</td>\n",
       "      <td>S</td>\n",
       "    </tr>\n",
       "    <tr>\n",
       "      <th>3</th>\n",
       "      <td>4</td>\n",
       "      <td>1</td>\n",
       "      <td>1</td>\n",
       "      <td>Futrelle, Mrs. Jacques Heath (Lily May Peel)</td>\n",
       "      <td>female</td>\n",
       "      <td>35.0</td>\n",
       "      <td>1</td>\n",
       "      <td>0</td>\n",
       "      <td>113803</td>\n",
       "      <td>53.1000</td>\n",
       "      <td>C123</td>\n",
       "      <td>S</td>\n",
       "    </tr>\n",
       "    <tr>\n",
       "      <th>4</th>\n",
       "      <td>5</td>\n",
       "      <td>0</td>\n",
       "      <td>3</td>\n",
       "      <td>Allen, Mr. William Henry</td>\n",
       "      <td>male</td>\n",
       "      <td>35.0</td>\n",
       "      <td>0</td>\n",
       "      <td>0</td>\n",
       "      <td>373450</td>\n",
       "      <td>8.0500</td>\n",
       "      <td>NaN</td>\n",
       "      <td>S</td>\n",
       "    </tr>\n",
       "    <tr>\n",
       "      <th>...</th>\n",
       "      <td>...</td>\n",
       "      <td>...</td>\n",
       "      <td>...</td>\n",
       "      <td>...</td>\n",
       "      <td>...</td>\n",
       "      <td>...</td>\n",
       "      <td>...</td>\n",
       "      <td>...</td>\n",
       "      <td>...</td>\n",
       "      <td>...</td>\n",
       "      <td>...</td>\n",
       "      <td>...</td>\n",
       "    </tr>\n",
       "    <tr>\n",
       "      <th>886</th>\n",
       "      <td>887</td>\n",
       "      <td>0</td>\n",
       "      <td>2</td>\n",
       "      <td>Montvila, Rev. Juozas</td>\n",
       "      <td>male</td>\n",
       "      <td>27.0</td>\n",
       "      <td>0</td>\n",
       "      <td>0</td>\n",
       "      <td>211536</td>\n",
       "      <td>13.0000</td>\n",
       "      <td>NaN</td>\n",
       "      <td>S</td>\n",
       "    </tr>\n",
       "    <tr>\n",
       "      <th>887</th>\n",
       "      <td>888</td>\n",
       "      <td>1</td>\n",
       "      <td>1</td>\n",
       "      <td>Graham, Miss. Margaret Edith</td>\n",
       "      <td>female</td>\n",
       "      <td>19.0</td>\n",
       "      <td>0</td>\n",
       "      <td>0</td>\n",
       "      <td>112053</td>\n",
       "      <td>30.0000</td>\n",
       "      <td>B42</td>\n",
       "      <td>S</td>\n",
       "    </tr>\n",
       "    <tr>\n",
       "      <th>888</th>\n",
       "      <td>889</td>\n",
       "      <td>0</td>\n",
       "      <td>3</td>\n",
       "      <td>Johnston, Miss. Catherine Helen \"Carrie\"</td>\n",
       "      <td>female</td>\n",
       "      <td>NaN</td>\n",
       "      <td>1</td>\n",
       "      <td>2</td>\n",
       "      <td>W./C. 6607</td>\n",
       "      <td>23.4500</td>\n",
       "      <td>NaN</td>\n",
       "      <td>S</td>\n",
       "    </tr>\n",
       "    <tr>\n",
       "      <th>889</th>\n",
       "      <td>890</td>\n",
       "      <td>1</td>\n",
       "      <td>1</td>\n",
       "      <td>Behr, Mr. Karl Howell</td>\n",
       "      <td>male</td>\n",
       "      <td>26.0</td>\n",
       "      <td>0</td>\n",
       "      <td>0</td>\n",
       "      <td>111369</td>\n",
       "      <td>30.0000</td>\n",
       "      <td>C148</td>\n",
       "      <td>C</td>\n",
       "    </tr>\n",
       "    <tr>\n",
       "      <th>890</th>\n",
       "      <td>891</td>\n",
       "      <td>0</td>\n",
       "      <td>3</td>\n",
       "      <td>Dooley, Mr. Patrick</td>\n",
       "      <td>male</td>\n",
       "      <td>32.0</td>\n",
       "      <td>0</td>\n",
       "      <td>0</td>\n",
       "      <td>370376</td>\n",
       "      <td>7.7500</td>\n",
       "      <td>NaN</td>\n",
       "      <td>Q</td>\n",
       "    </tr>\n",
       "  </tbody>\n",
       "</table>\n",
       "<p>891 rows × 12 columns</p>\n",
       "</div>"
      ],
      "text/plain": [
       "     PassengerId  Survived  Pclass  \\\n",
       "0              1         0       3   \n",
       "1              2         1       1   \n",
       "2              3         1       3   \n",
       "3              4         1       1   \n",
       "4              5         0       3   \n",
       "..           ...       ...     ...   \n",
       "886          887         0       2   \n",
       "887          888         1       1   \n",
       "888          889         0       3   \n",
       "889          890         1       1   \n",
       "890          891         0       3   \n",
       "\n",
       "                                                  Name     Sex   Age  SibSp  \\\n",
       "0                              Braund, Mr. Owen Harris    male  22.0      1   \n",
       "1    Cumings, Mrs. John Bradley (Florence Briggs Th...  female  38.0      1   \n",
       "2                               Heikkinen, Miss. Laina  female  26.0      0   \n",
       "3         Futrelle, Mrs. Jacques Heath (Lily May Peel)  female  35.0      1   \n",
       "4                             Allen, Mr. William Henry    male  35.0      0   \n",
       "..                                                 ...     ...   ...    ...   \n",
       "886                              Montvila, Rev. Juozas    male  27.0      0   \n",
       "887                       Graham, Miss. Margaret Edith  female  19.0      0   \n",
       "888           Johnston, Miss. Catherine Helen \"Carrie\"  female   NaN      1   \n",
       "889                              Behr, Mr. Karl Howell    male  26.0      0   \n",
       "890                                Dooley, Mr. Patrick    male  32.0      0   \n",
       "\n",
       "     Parch            Ticket     Fare Cabin Embarked  \n",
       "0        0         A/5 21171   7.2500   NaN        S  \n",
       "1        0          PC 17599  71.2833   C85        C  \n",
       "2        0  STON/O2. 3101282   7.9250   NaN        S  \n",
       "3        0            113803  53.1000  C123        S  \n",
       "4        0            373450   8.0500   NaN        S  \n",
       "..     ...               ...      ...   ...      ...  \n",
       "886      0            211536  13.0000   NaN        S  \n",
       "887      0            112053  30.0000   B42        S  \n",
       "888      2        W./C. 6607  23.4500   NaN        S  \n",
       "889      0            111369  30.0000  C148        C  \n",
       "890      0            370376   7.7500   NaN        Q  \n",
       "\n",
       "[891 rows x 12 columns]"
      ]
     },
     "execution_count": 3,
     "metadata": {},
     "output_type": "execute_result"
    }
   ],
   "source": [
    "data"
   ]
  },
  {
   "cell_type": "code",
   "execution_count": 4,
   "id": "a19b38e1-3c71-485f-8f86-f85e03dc37fa",
   "metadata": {},
   "outputs": [
    {
     "name": "stdout",
     "output_type": "stream",
     "text": [
      "<class 'pandas.core.frame.DataFrame'>\n",
      "RangeIndex: 891 entries, 0 to 890\n",
      "Data columns (total 12 columns):\n",
      " #   Column       Non-Null Count  Dtype  \n",
      "---  ------       --------------  -----  \n",
      " 0   PassengerId  891 non-null    int64  \n",
      " 1   Survived     891 non-null    int64  \n",
      " 2   Pclass       891 non-null    int64  \n",
      " 3   Name         891 non-null    object \n",
      " 4   Sex          891 non-null    object \n",
      " 5   Age          714 non-null    float64\n",
      " 6   SibSp        891 non-null    int64  \n",
      " 7   Parch        891 non-null    int64  \n",
      " 8   Ticket       891 non-null    object \n",
      " 9   Fare         891 non-null    float64\n",
      " 10  Cabin        204 non-null    object \n",
      " 11  Embarked     889 non-null    object \n",
      "dtypes: float64(2), int64(5), object(5)\n",
      "memory usage: 83.7+ KB\n"
     ]
    }
   ],
   "source": [
    "data.info()"
   ]
  },
  {
   "cell_type": "code",
   "execution_count": 8,
   "id": "6a0f1141-7461-4456-9493-7486873b3dcb",
   "metadata": {},
   "outputs": [
    {
     "data": {
      "text/html": [
       "<div>\n",
       "<style scoped>\n",
       "    .dataframe tbody tr th:only-of-type {\n",
       "        vertical-align: middle;\n",
       "    }\n",
       "\n",
       "    .dataframe tbody tr th {\n",
       "        vertical-align: top;\n",
       "    }\n",
       "\n",
       "    .dataframe thead th {\n",
       "        text-align: right;\n",
       "    }\n",
       "</style>\n",
       "<table border=\"1\" class=\"dataframe\">\n",
       "  <thead>\n",
       "    <tr style=\"text-align: right;\">\n",
       "      <th></th>\n",
       "      <th>PassengerId</th>\n",
       "      <th>Survived</th>\n",
       "      <th>Pclass</th>\n",
       "      <th>Name</th>\n",
       "      <th>Sex</th>\n",
       "      <th>Age</th>\n",
       "      <th>SibSp</th>\n",
       "      <th>Parch</th>\n",
       "      <th>Ticket</th>\n",
       "      <th>Fare</th>\n",
       "      <th>Cabin</th>\n",
       "      <th>Embarked</th>\n",
       "    </tr>\n",
       "  </thead>\n",
       "  <tbody>\n",
       "  </tbody>\n",
       "</table>\n",
       "</div>"
      ],
      "text/plain": [
       "Empty DataFrame\n",
       "Columns: [PassengerId, Survived, Pclass, Name, Sex, Age, SibSp, Parch, Ticket, Fare, Cabin, Embarked]\n",
       "Index: []"
      ]
     },
     "execution_count": 8,
     "metadata": {},
     "output_type": "execute_result"
    }
   ],
   "source": [
    "data[data[\"Survived\"].isnull()]"
   ]
  },
  {
   "cell_type": "code",
   "execution_count": 9,
   "id": "7dc60083-2b50-49eb-a8b2-25114e7caae7",
   "metadata": {},
   "outputs": [],
   "source": [
    "df = data[~data[\"Survived\"].isnull()]"
   ]
  },
  {
   "cell_type": "code",
   "execution_count": 10,
   "id": "4ac90688-d4db-4b04-9074-e3bd4af6262d",
   "metadata": {},
   "outputs": [
    {
     "data": {
      "text/plain": [
       "PassengerId      0\n",
       "Survived         0\n",
       "Pclass           0\n",
       "Name             0\n",
       "Sex              0\n",
       "Age            177\n",
       "SibSp            0\n",
       "Parch            0\n",
       "Ticket           0\n",
       "Fare             0\n",
       "Cabin          687\n",
       "Embarked         2\n",
       "dtype: int64"
      ]
     },
     "execution_count": 10,
     "metadata": {},
     "output_type": "execute_result"
    }
   ],
   "source": [
    "df.isnull().sum()"
   ]
  },
  {
   "cell_type": "code",
   "execution_count": 11,
   "id": "7cd6cfdc-eff5-4c95-b145-cab701fc4d79",
   "metadata": {},
   "outputs": [
    {
     "data": {
      "text/plain": [
       "np.int64(0)"
      ]
     },
     "execution_count": 11,
     "metadata": {},
     "output_type": "execute_result"
    }
   ],
   "source": [
    "df.duplicated().sum()"
   ]
  },
  {
   "cell_type": "code",
   "execution_count": null,
   "id": "dc2043e0-43dc-4806-b6f2-64cd2fc505a0",
   "metadata": {},
   "outputs": [],
   "source": [
    "def IQR(x):\n",
    "    q1=x.quantile(0.25)\n",
    "    q3=x.quantile(0.75)\n",
    "    iqr=q3-q1\n",
    "    lf=q1-(1.5*iqr)\n",
    "    uf=q3+(1.5*iqr)\n",
    "    print(\"LF\",lf)\n",
    "    print(\"UF\",uf)"
   ]
  },
  {
   "cell_type": "code",
   "execution_count": null,
   "id": "9615d082-45c7-461f-a6bc-371a01b1d903",
   "metadata": {},
   "outputs": [],
   "source": [
    "plt.boxplot(df[\"employ\"])\n",
    "plt.show()"
   ]
  },
  {
   "cell_type": "code",
   "execution_count": null,
   "id": "0a101f5c-74ae-436f-abe6-63c11018e0c0",
   "metadata": {},
   "outputs": [],
   "source": [
    "IQR(df[\"employ\"])"
   ]
  },
  {
   "cell_type": "code",
   "execution_count": null,
   "id": "d87891e1-743f-4382-8940-c82f5965d509",
   "metadata": {},
   "outputs": [],
   "source": [
    "df[\"employ\"] = np.where(df[\"employ\"]>25.5,25.5,df[\"employ\"])\n",
    "df[\"address\"] = np.where(df[\"address\"]>25.5,25.5,df[\"address\"])\n",
    "df[\"income\"] = np.where(df[\"income\"]>101.5,101.5,df[\"income\"])\n",
    "df[\"debtinc\"] = np.where(df[\"debtinc\"]>27.812,27.812,df[\"debtinc\"])\n",
    "df[\"creddebt\"] = np.where(df[\"creddebt\"]>4.20,4.20,df[\"creddebt\"])\n",
    "df[\"othdebt\"] = np.where(df[\"othdebt\"]>8.24,8.24,df[\"othdebt\"])\n",
    "df[\"ed\"] = np.where(df[\"ed\"]>3.5,3.5,df[\"ed\"])"
   ]
  },
  {
   "cell_type": "code",
   "execution_count": null,
   "id": "7d1c8410-460f-45db-a7a5-8450ffe6f899",
   "metadata": {},
   "outputs": [],
   "source": [
    "df.columns"
   ]
  },
  {
   "cell_type": "code",
   "execution_count": null,
   "id": "3a7f9020-853a-406c-98b3-467ccf2ad1c5",
   "metadata": {},
   "outputs": [],
   "source": [
    "X = df[['age', 'ed', 'employ', 'address', 'income', 'debtinc', 'creddebt',\n",
    "       'othdebt']]\n",
    "\n",
    "y = df[\"default\"]"
   ]
  },
  {
   "cell_type": "code",
   "execution_count": null,
   "id": "c0ff80c9-c499-499e-b807-93766047495b",
   "metadata": {},
   "outputs": [],
   "source": [
    "X_train,X_test,y_train,y_test = tts(X,y,test_size=0.2,random_state=1252)"
   ]
  },
  {
   "cell_type": "code",
   "execution_count": null,
   "id": "f52af8e7-23f5-4bd2-9b13-c820fcceec8d",
   "metadata": {},
   "outputs": [],
   "source": [
    "log = LogisticRegression()"
   ]
  },
  {
   "cell_type": "code",
   "execution_count": null,
   "id": "1ea796c1-bf9f-4401-9915-4e68bf50d631",
   "metadata": {},
   "outputs": [],
   "source": [
    "log.fit(X_train,y_train)"
   ]
  },
  {
   "cell_type": "code",
   "execution_count": null,
   "id": "3900ff96-b079-4054-af39-ce003ba2477e",
   "metadata": {},
   "outputs": [],
   "source": [
    "print(\"Train accuracy\" , log.score(X_train,y_train))\n",
    "print(\"Test accuracy\" , log.score(X_test,y_test))"
   ]
  },
  {
   "cell_type": "code",
   "execution_count": null,
   "id": "486f61d8-cfee-4d9d-8604-594c3a7f99d4",
   "metadata": {},
   "outputs": [],
   "source": [
    "sample = data[data[\"default\"].isnull()]\n",
    "sample"
   ]
  },
  {
   "cell_type": "code",
   "execution_count": null,
   "id": "3cac5c2c-216e-4f26-838e-d04640b8719d",
   "metadata": {},
   "outputs": [],
   "source": [
    "sample.drop(columns = \"default\",inplace=True)\n",
    "sample"
   ]
  },
  {
   "cell_type": "code",
   "execution_count": null,
   "id": "b54707ad-cd22-47e9-b6bb-7423ac7269f1",
   "metadata": {},
   "outputs": [],
   "source": [
    "sample[\"pred_y\"] = log.predict(sample)\n",
    "sample"
   ]
  },
  {
   "cell_type": "code",
   "execution_count": null,
   "id": "227e68c6-f021-4fb5-b2e5-b0eac14a47df",
   "metadata": {},
   "outputs": [],
   "source": [
    "from sklearn.metrics import classification_report"
   ]
  },
  {
   "cell_type": "code",
   "execution_count": null,
   "id": "530ec94e-8ca8-44ee-9f92-1b3d70d705d7",
   "metadata": {},
   "outputs": [],
   "source": [
    "print(classification_report(y_train,log.predict(X_train)))"
   ]
  },
  {
   "cell_type": "code",
   "execution_count": null,
   "id": "510ac9bf-230a-40c5-86aa-bd6ea7a447c3",
   "metadata": {},
   "outputs": [],
   "source": [
    "print(classification_report(y_test,log.predict(X_test)))"
   ]
  },
  {
   "cell_type": "code",
   "execution_count": null,
   "id": "71c75f2e-b127-4c40-a843-6d6c046333d4",
   "metadata": {},
   "outputs": [],
   "source": [
    "prob_train = pd.DataFrame(log.predict_proba(X_train),columns=[\"prob_0\",\"prob_1\"])\n",
    "prob_train"
   ]
  },
  {
   "cell_type": "code",
   "execution_count": null,
   "id": "fb44c24a-14f3-4eed-9297-783c2946d20c",
   "metadata": {},
   "outputs": [],
   "source": [
    "copy = X_train.copy()"
   ]
  },
  {
   "cell_type": "code",
   "execution_count": null,
   "id": "b426cfa1-7ce4-4b10-a1bd-8a40edda778a",
   "metadata": {},
   "outputs": [],
   "source": [
    "copy[\"pred_y\"] = log.predict(copy)\n",
    "copy"
   ]
  },
  {
   "cell_type": "code",
   "execution_count": null,
   "id": "efe37757-3d2d-4366-bc6e-814bb8b68fe2",
   "metadata": {},
   "outputs": [],
   "source": [
    "copy[\"mannual_y\"] = np.where(prob_train[\"prob_1\"]>0.5,1,0)\n",
    "copy"
   ]
  },
  {
   "cell_type": "code",
   "execution_count": null,
   "id": "66b27369-ff3a-438b-b5d6-eb86d0e6cd6b",
   "metadata": {},
   "outputs": [],
   "source": [
    "actual = y_train\n",
    "pre_y = np.where(prob_train[\"prob_1\"]>=0.5,1,0)"
   ]
  },
  {
   "cell_type": "code",
   "execution_count": null,
   "id": "ed3633b4-5fbf-46fb-b5f4-8461dafc457e",
   "metadata": {},
   "outputs": [],
   "source": [
    "print(classification_report(actual,pre_y))\n",
    "print(\"------------------------------------------------------\")\n",
    "print(classification_report(y_train,log.predict(X_train)))  "
   ]
  },
  {
   "cell_type": "code",
   "execution_count": null,
   "id": "ba1eb346-abbf-4c9e-a546-541fe04cdf61",
   "metadata": {},
   "outputs": [],
   "source": [
    "prob_test = pd.DataFrame(log.predict_proba(X_test),columns=[\"prob_0\",\"prob_1\"])\n",
    "prob_test"
   ]
  },
  {
   "cell_type": "code",
   "execution_count": null,
   "id": "2070350f-bd4e-4498-bc83-95f9363613d8",
   "metadata": {},
   "outputs": [],
   "source": [
    "copy_x = X_test.copy()\n",
    "copy_x[\"pred_y\"] = log.predict(copy_x)\n",
    "copy_x"
   ]
  },
  {
   "cell_type": "code",
   "execution_count": null,
   "id": "bb71582e-bebe-42fb-98e9-fde311fed77f",
   "metadata": {},
   "outputs": [],
   "source": [
    "copy_x[\"mannual_test\"] = np.where(prob_test[\"prob_1\"]>0.5,1,0)\n",
    "copy_x"
   ]
  },
  {
   "cell_type": "code",
   "execution_count": null,
   "id": "05e6fd15-215b-4543-a871-cf4d82723921",
   "metadata": {},
   "outputs": [],
   "source": [
    "act_test = y_test\n",
    "pre_tst = np.where(prob_test[\"prob_1\"]>=0.3,1,0)"
   ]
  },
  {
   "cell_type": "code",
   "execution_count": null,
   "id": "f831ff32-d287-42fd-890b-3a271cca99ed",
   "metadata": {},
   "outputs": [],
   "source": [
    "print(classification_report(act_test,pre_tst))\n",
    "print(\"------------------------------------------------------\")\n",
    "print(classification_report(y_test,log.predict(X_test)))"
   ]
  },
  {
   "cell_type": "markdown",
   "id": "e547ab01-3a29-454d-84df-87996dd94c8d",
   "metadata": {},
   "source": [
    "# Decision Tree Classifier"
   ]
  },
  {
   "cell_type": "code",
   "execution_count": null,
   "id": "5b537de0-2ce4-4627-a9c7-b2a146fe4608",
   "metadata": {},
   "outputs": [],
   "source": [
    "df.select_dtypes(object).columns"
   ]
  },
  {
   "cell_type": "code",
   "execution_count": null,
   "id": "3e2ca54d-5326-4964-91cd-4d8b01382181",
   "metadata": {},
   "outputs": [],
   "source": [
    "bank = pd.get_dummies(df,columns = ['job', 'marital', 'education', 'contact', 'poutcome'], drop_first=True)"
   ]
  },
  {
   "cell_type": "code",
   "execution_count": null,
   "id": "9c6bc4af-8de9-495f-b16e-48b8b1ffe9ed",
   "metadata": {},
   "outputs": [],
   "source": [
    "X = bank.drop(columns = [\"deposit\"])\n",
    "y = bank[\"deposit\"]"
   ]
  },
  {
   "cell_type": "code",
   "execution_count": null,
   "id": "fda69ac2-5fde-4235-91b1-0b4a20688a3a",
   "metadata": {},
   "outputs": [],
   "source": [
    "from sklearn.model_selection import train_test_split\n",
    "X_train,X_test,y_train,y_test = train_test_split(X,y,test_size = 0.2,random_state = 42)\n",
    "from sklearn.tree import DecisionTreeClassifier\n",
    "dt = DecisionTreeClassifier()\n",
    "dt.fit(X_train,y_train)\n",
    "print(\"train_accu: \",dt.score(X_train,y_train))\n",
    "print(\"test_accu: \",dt.score(X_test,y_test))"
   ]
  },
  {
   "cell_type": "code",
   "execution_count": null,
   "id": "900961d8-7e5a-4449-9fc3-453919da4e94",
   "metadata": {},
   "outputs": [],
   "source": [
    "from sklearn.tree import DecisionTreeClassifier\n",
    "dt = DecisionTreeClassifier(criterion=\"entropy\",\n",
    "                            max_depth=5,\n",
    "                            min_samples_split=10,\n",
    "                            random_state=5)\n",
    "dt.fit(X_train,y_train)\n",
    "print(\"train_accu \",dt.score(X_train,y_train))\n",
    "print(\"test_accu \",dt.score(X_test,y_test))"
   ]
  },
  {
   "cell_type": "code",
   "execution_count": null,
   "id": "99967b5c-0225-4dc3-a322-a16bae20333f",
   "metadata": {},
   "outputs": [],
   "source": [
    "from sklearn.model_selection import GridSearchCV\n",
    "dt"
   ]
  },
  {
   "cell_type": "code",
   "execution_count": null,
   "id": "b9d3b9f1-c305-413f-8b78-1c755d0dfe9f",
   "metadata": {},
   "outputs": [],
   "source": [
    "para = {\"criterion\" : [\"gini\",\"entropy\"],\n",
    "        \"max_depth\": [2,4,6,8,10,12,14,15,16],\n",
    "        \"min_samples_split\": [40,50,60,70,80,90,100,110,120]}\n",
    "tre = DecisionTreeClassifier(random_state = 77)\n",
    "grid  = GridSearchCV(tre,param_grid = para, cv = 5, verbose = 1, n_jobs = -1 )\n",
    "grid.fit(X_train,y_train)"
   ]
  },
  {
   "cell_type": "code",
   "execution_count": null,
   "id": "a94d9067-bb9c-4063-b15e-198dd5c03972",
   "metadata": {},
   "outputs": [],
   "source": [
    "dt = DecisionTreeClassifier(criterion = \"entropy\",\n",
    "                            max_depth = 14,\n",
    "                            min_samples_split = 120,\n",
    "                            min_samples_leaf = 1,\n",
    "                            random_state = 77)"
   ]
  },
  {
   "cell_type": "code",
   "execution_count": null,
   "id": "1b3bc569-e2be-4091-b50b-da66bcc0feb5",
   "metadata": {},
   "outputs": [],
   "source": [
    "dt.fit(X_train,y_train)\n",
    "print(\"Train_accu \", dt.score(X_train,y_train))\n",
    "print(\"Test_accu \", dt.score(X_test,y_test))"
   ]
  },
  {
   "cell_type": "code",
   "execution_count": null,
   "id": "0a0e709c-f42c-486e-ba38-001c0be17ec2",
   "metadata": {},
   "outputs": [],
   "source": [
    "from sklearn.metrics import classification_report"
   ]
  },
  {
   "cell_type": "code",
   "execution_count": null,
   "id": "b17a9b53-8f06-42cc-a10f-548e0a5cc9a5",
   "metadata": {},
   "outputs": [],
   "source": [
    "print(classification_report(y_train, dt.predict(X_train)))"
   ]
  },
  {
   "cell_type": "markdown",
   "id": "daa39ee6-d444-4b46-866e-aa40d4ebc75b",
   "metadata": {},
   "source": [
    "## Random Forest Classifier"
   ]
  },
  {
   "cell_type": "code",
   "execution_count": null,
   "id": "6a88b345-5fef-4a63-a77b-2cbeb56b1a83",
   "metadata": {},
   "outputs": [],
   "source": [
    "from sklearn.ensemble import RandomForestClassifier    \n",
    "rm = RandomForestClassifier(random_state = 77)\n",
    "rm.fit(X_train,y_train)\n",
    "print(\"train\" , rm.score(X_train,y_train))\n",
    "print(\"test\" , rm.score(X_test,y_test))"
   ]
  },
  {
   "cell_type": "code",
   "execution_count": null,
   "id": "3134be26-39a2-421a-828f-1b04b312b0ae",
   "metadata": {},
   "outputs": [],
   "source": [
    "para = {\"criterion\" : [\"gini\",\"entropy\"],\n",
    "        \"max_depth\": [10,20,30,40,50,60],\n",
    "        \"min_samples_split\": [40,50,60,70,80,90,100,110,120]}\n",
    "rft = RandomForestClassifier(random_state = 77)\n",
    "grid  = GridSearchCV(rft,param_grid = para, cv = 5, verbose = 1, n_jobs = -1 )\n",
    "grid.fit(X_train,y_train)"
   ]
  },
  {
   "cell_type": "code",
   "execution_count": null,
   "id": "c084e51b-9f18-41c1-bc11-f0a51c139c11",
   "metadata": {},
   "outputs": [],
   "source": [
    "rfc = RandomForestClassifier(criterion = \"entropy\",\n",
    "                            max_depth = 20,\n",
    "                            min_samples_split = 50,\n",
    "                            min_samples_leaf = 1,\n",
    "                            random_state = 77)"
   ]
  },
  {
   "cell_type": "code",
   "execution_count": null,
   "id": "7d870682-850b-458c-b414-c4499f2eb6e3",
   "metadata": {},
   "outputs": [],
   "source": [
    "rfc.fit(X_train,y_train)\n",
    "print(\"Train_accu \", dt.score(X_train,y_train))\n",
    "print(\"Test_accu \", dt.score(X_test,y_test))"
   ]
  },
  {
   "cell_type": "code",
   "execution_count": null,
   "id": "a0621e64-27ef-4920-a761-056dd334f5fc",
   "metadata": {},
   "outputs": [],
   "source": [
    "from sklearn.metrics import classification_report"
   ]
  },
  {
   "cell_type": "code",
   "execution_count": null,
   "id": "9334fb28-2dc5-44f9-bcac-cf18ff57227a",
   "metadata": {},
   "outputs": [],
   "source": [
    "print(classification_report(y_train, dt.predict(X_train)))"
   ]
  }
 ],
 "metadata": {
  "kernelspec": {
   "display_name": "Python 3 (ipykernel)",
   "language": "python",
   "name": "python3"
  },
  "language_info": {
   "codemirror_mode": {
    "name": "ipython",
    "version": 3
   },
   "file_extension": ".py",
   "mimetype": "text/x-python",
   "name": "python",
   "nbconvert_exporter": "python",
   "pygments_lexer": "ipython3",
   "version": "3.13.5"
  }
 },
 "nbformat": 4,
 "nbformat_minor": 5
}
