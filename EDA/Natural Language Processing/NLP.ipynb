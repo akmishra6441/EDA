{
 "cells": [
  {
   "cell_type": "code",
   "execution_count": 1,
   "id": "e65eb1a8-8ffe-4fd9-bf08-8946a0094681",
   "metadata": {},
   "outputs": [
    {
     "name": "stdout",
     "output_type": "stream",
     "text": [
      "Requirement already satisfied: nltk in c:\\users\\abhishekh mishra\\appdata\\local\\programs\\python\\python313\\lib\\site-packages (3.9.1)\n",
      "Requirement already satisfied: click in c:\\users\\abhishekh mishra\\appdata\\local\\programs\\python\\python313\\lib\\site-packages (from nltk) (8.2.1)\n",
      "Requirement already satisfied: joblib in c:\\users\\abhishekh mishra\\appdata\\local\\programs\\python\\python313\\lib\\site-packages (from nltk) (1.5.1)\n",
      "Requirement already satisfied: regex>=2021.8.3 in c:\\users\\abhishekh mishra\\appdata\\local\\programs\\python\\python313\\lib\\site-packages (from nltk) (2024.11.6)\n",
      "Requirement already satisfied: tqdm in c:\\users\\abhishekh mishra\\appdata\\local\\programs\\python\\python313\\lib\\site-packages (from nltk) (4.67.1)\n",
      "Requirement already satisfied: colorama in c:\\users\\abhishekh mishra\\appdata\\local\\programs\\python\\python313\\lib\\site-packages (from click->nltk) (0.4.6)\n",
      "Note: you may need to restart the kernel to use updated packages.\n"
     ]
    }
   ],
   "source": [
    "pip install nltk"
   ]
  },
  {
   "cell_type": "code",
   "execution_count": 2,
   "id": "d65ac399-5754-43ec-a679-f0fa236bcd6e",
   "metadata": {},
   "outputs": [],
   "source": [
    "import warnings\n",
    "warnings.filterwarnings(\"ignore\")"
   ]
  },
  {
   "cell_type": "code",
   "execution_count": 3,
   "id": "1ab16beb-201c-46db-960f-dd5131c0e636",
   "metadata": {},
   "outputs": [
    {
     "name": "stderr",
     "output_type": "stream",
     "text": [
      "[nltk_data] Downloading package punkt_tab to C:\\Users\\Abhishekh\n",
      "[nltk_data]     Mishra\\AppData\\Roaming\\nltk_data...\n",
      "[nltk_data]   Package punkt_tab is already up-to-date!\n"
     ]
    },
    {
     "data": {
      "text/plain": [
       "True"
      ]
     },
     "execution_count": 3,
     "metadata": {},
     "output_type": "execute_result"
    }
   ],
   "source": [
    "import nltk\n",
    "nltk.download('punkt_tab')"
   ]
  },
  {
   "cell_type": "code",
   "execution_count": 4,
   "id": "cc34b47d-7487-4e7f-8d82-e355f23373e4",
   "metadata": {},
   "outputs": [],
   "source": [
    "corpus = \"\"\"\n",
    "today we are learning NLP. Where I am studying about the corpus and\n",
    "tokenization of words and sentences.\n",
    "In the data science AI section 3 of BBD college Lucknow\n",
    "\"\"\""
   ]
  },
  {
   "cell_type": "code",
   "execution_count": 5,
   "id": "46febe3e-3138-4c46-bbef-4899ce04693f",
   "metadata": {},
   "outputs": [],
   "source": [
    "#This will convert corpus into sentences"
   ]
  },
  {
   "cell_type": "code",
   "execution_count": 6,
   "id": "48fe62ef-ac2c-4198-8b45-ea1d1a6cabf4",
   "metadata": {},
   "outputs": [],
   "source": [
    "from nltk.tokenize import sent_tokenize"
   ]
  },
  {
   "cell_type": "code",
   "execution_count": 7,
   "id": "81b1c2b8-5659-42ba-857a-edfebf00fad2",
   "metadata": {},
   "outputs": [],
   "source": [
    "st = sent_tokenize"
   ]
  },
  {
   "cell_type": "code",
   "execution_count": 8,
   "id": "53f86d33-7fdb-44d2-a6ab-9773328b7e2e",
   "metadata": {},
   "outputs": [
    {
     "name": "stdout",
     "output_type": "stream",
     "text": [
      "['\\ntoday we are learning NLP.', 'Where I am studying about the corpus and\\ntokenization of words and sentences.', 'In the data science AI section 3 of BBD college Lucknow']\n"
     ]
    }
   ],
   "source": [
    "print(st(corpus))"
   ]
  },
  {
   "cell_type": "code",
   "execution_count": 9,
   "id": "d0c9cfe7-eb0e-42a6-aa89-ab8455cab143",
   "metadata": {},
   "outputs": [],
   "source": [
    "from nltk.tokenize import word_tokenize"
   ]
  },
  {
   "cell_type": "code",
   "execution_count": 10,
   "id": "0effcd93-d75a-4e22-9632-eac0a49f996f",
   "metadata": {},
   "outputs": [],
   "source": [
    "wt = word_tokenize"
   ]
  },
  {
   "cell_type": "code",
   "execution_count": 11,
   "id": "cafb428f-47bf-4867-b935-ed784c7cdba5",
   "metadata": {
    "scrolled": true
   },
   "outputs": [
    {
     "data": {
      "text/plain": [
       "['today',\n",
       " 'we',\n",
       " 'are',\n",
       " 'learning',\n",
       " 'NLP',\n",
       " '.',\n",
       " 'Where',\n",
       " 'I',\n",
       " 'am',\n",
       " 'studying',\n",
       " 'about',\n",
       " 'the',\n",
       " 'corpus',\n",
       " 'and',\n",
       " 'tokenization',\n",
       " 'of',\n",
       " 'words',\n",
       " 'and',\n",
       " 'sentences',\n",
       " '.',\n",
       " 'In',\n",
       " 'the',\n",
       " 'data',\n",
       " 'science',\n",
       " 'AI',\n",
       " 'section',\n",
       " '3',\n",
       " 'of',\n",
       " 'BBD',\n",
       " 'college',\n",
       " 'Lucknow']"
      ]
     },
     "execution_count": 11,
     "metadata": {},
     "output_type": "execute_result"
    }
   ],
   "source": [
    "wt(corpus)"
   ]
  },
  {
   "cell_type": "code",
   "execution_count": 12,
   "id": "78cc536d-ddf4-44a0-849b-a450e92028d3",
   "metadata": {},
   "outputs": [
    {
     "name": "stdout",
     "output_type": "stream",
     "text": [
      "\n",
      "today we are learning NLP.\n",
      "Where I am studying about the corpus and\n",
      "tokenization of words and sentences.\n",
      "In the data science AI section 3 of BBD college Lucknow\n"
     ]
    }
   ],
   "source": [
    "for i in sent_tokenize(corpus):\n",
    "    print(i)"
   ]
  },
  {
   "cell_type": "markdown",
   "id": "ef2c80ec-616d-4589-967b-206c71b91ebf",
   "metadata": {},
   "source": [
    "#Stemming"
   ]
  },
  {
   "cell_type": "code",
   "execution_count": 13,
   "id": "5f190970-77f8-40bf-8c64-33cdb230cb01",
   "metadata": {},
   "outputs": [],
   "source": [
    "words = [\"playing\",\"walking\",\"sleeping\",\"plays\",\"flying\",\"eating\",\"eats\",\"played\",\"walked\",\"happiness\",\"enjoyable\",\"releases\"]"
   ]
  },
  {
   "cell_type": "code",
   "execution_count": 14,
   "id": "d982793d-fa02-4165-b442-98d95c885392",
   "metadata": {},
   "outputs": [],
   "source": [
    "from nltk.stem import PorterStemmer"
   ]
  },
  {
   "cell_type": "code",
   "execution_count": 15,
   "id": "bd884e6c-d118-478b-8c73-a0863bf1eab3",
   "metadata": {},
   "outputs": [],
   "source": [
    "ps = PorterStemmer()"
   ]
  },
  {
   "cell_type": "code",
   "execution_count": 16,
   "id": "1b37e2cc-8901-4644-82d2-654d63aa17bf",
   "metadata": {},
   "outputs": [
    {
     "data": {
      "text/plain": [
       "'play'"
      ]
     },
     "execution_count": 16,
     "metadata": {},
     "output_type": "execute_result"
    }
   ],
   "source": [
    "ps.stem(\"Playing\")"
   ]
  },
  {
   "cell_type": "code",
   "execution_count": 17,
   "id": "3b35f705-e151-4432-abb5-384aa3a61c6b",
   "metadata": {},
   "outputs": [
    {
     "name": "stdout",
     "output_type": "stream",
     "text": [
      "playing ----> play\n",
      "walking ----> walk\n",
      "sleeping ----> sleep\n",
      "plays ----> play\n",
      "flying ----> fli\n",
      "eating ----> eat\n",
      "eats ----> eat\n",
      "played ----> play\n",
      "walked ----> walk\n",
      "happiness ----> happi\n",
      "enjoyable ----> enjoy\n",
      "releases ----> releas\n"
     ]
    }
   ],
   "source": [
    "for i in words:\n",
    "    print(i , \"---->\",ps.stem(i))"
   ]
  },
  {
   "cell_type": "code",
   "execution_count": 18,
   "id": "aed58f56-ffbc-4502-9638-71044402243b",
   "metadata": {},
   "outputs": [],
   "source": [
    "#mostly doesn't work with words ending \"ying\""
   ]
  },
  {
   "cell_type": "code",
   "execution_count": 19,
   "id": "3fe287b6-d79d-414a-9d3e-d9b975c45a80",
   "metadata": {},
   "outputs": [],
   "source": [
    "from nltk.stem import RegexpStemmer"
   ]
  },
  {
   "cell_type": "code",
   "execution_count": 20,
   "id": "e4a5ec22-3d17-4d7c-884c-b42a9e616c30",
   "metadata": {},
   "outputs": [],
   "source": [
    "rs = RegexpStemmer(\"s$|es$|ing$|ed$|able$|ness$\",min = 3)"
   ]
  },
  {
   "cell_type": "code",
   "execution_count": 21,
   "id": "7deb94ca-851f-4c21-8ac9-2d3a4adb0c8a",
   "metadata": {},
   "outputs": [],
   "source": [
    "words.extend([\"helping\",\"happiness\",\"running\",])"
   ]
  },
  {
   "cell_type": "code",
   "execution_count": 22,
   "id": "0f58bcc5-c576-48b0-a4d4-2da268811e0f",
   "metadata": {},
   "outputs": [
    {
     "name": "stdout",
     "output_type": "stream",
     "text": [
      "playing ----> play\n",
      "walking ----> walk\n",
      "sleeping ----> sleep\n",
      "plays ----> play\n",
      "flying ----> fly\n",
      "eating ----> eat\n",
      "eats ----> eat\n",
      "played ----> play\n",
      "walked ----> walk\n",
      "happiness ----> happi\n",
      "enjoyable ----> enjoy\n",
      "releases ----> releas\n",
      "helping ----> help\n",
      "happiness ----> happi\n",
      "running ----> runn\n"
     ]
    }
   ],
   "source": [
    "for i in words:\n",
    "    print(i , \"---->\",rs.stem(i))"
   ]
  },
  {
   "cell_type": "code",
   "execution_count": 23,
   "id": "9fb7d0a1-a16d-481d-a4a9-de1a20e75e8d",
   "metadata": {},
   "outputs": [],
   "source": [
    "rs = RegexpStemmer(\"ing\",min = 4)"
   ]
  },
  {
   "cell_type": "code",
   "execution_count": 24,
   "id": "4c992d22-df38-4613-8cfa-86e82ad59b77",
   "metadata": {},
   "outputs": [
    {
     "data": {
      "text/plain": [
       "'play'"
      ]
     },
     "execution_count": 24,
     "metadata": {},
     "output_type": "execute_result"
    }
   ],
   "source": [
    "rs.stem(\"ingplaying\")"
   ]
  },
  {
   "cell_type": "code",
   "execution_count": 25,
   "id": "89cf0114-1501-4392-b3f9-ca0004a565ff",
   "metadata": {},
   "outputs": [
    {
     "data": {
      "text/plain": [
       "'ingplay'"
      ]
     },
     "execution_count": 25,
     "metadata": {},
     "output_type": "execute_result"
    }
   ],
   "source": [
    "rs = RegexpStemmer(\"ing$\",min = 4)\n",
    "rs.stem(\"ingplaying\")"
   ]
  },
  {
   "cell_type": "markdown",
   "id": "96374a6b-00fc-4586-96e8-6d57f6a05eba",
   "metadata": {},
   "source": [
    "Lemmatization"
   ]
  },
  {
   "cell_type": "code",
   "execution_count": 26,
   "id": "0d87ecd7-08fe-4be5-a570-a64c4128c5b9",
   "metadata": {},
   "outputs": [],
   "source": [
    "from nltk.stem import WordNetLemmatizer"
   ]
  },
  {
   "cell_type": "code",
   "execution_count": 27,
   "id": "1b68e292-68bc-4816-a58e-12c965d63cb0",
   "metadata": {},
   "outputs": [],
   "source": [
    "wl = WordNetLemmatizer()"
   ]
  },
  {
   "cell_type": "code",
   "execution_count": 33,
   "id": "8c562d4c-5ada-4610-b304-e343aa00a125",
   "metadata": {},
   "outputs": [
    {
     "name": "stderr",
     "output_type": "stream",
     "text": [
      "[nltk_data] Downloading package wordnet to C:\\Users\\Abhishekh\n",
      "[nltk_data]     Mishra\\AppData\\Roaming\\nltk_data...\n",
      "[nltk_data]   Package wordnet is already up-to-date!\n"
     ]
    },
    {
     "data": {
      "text/plain": [
       "True"
      ]
     },
     "execution_count": 33,
     "metadata": {},
     "output_type": "execute_result"
    }
   ],
   "source": [
    "import nltk\n",
    "nltk.download('wordnet')"
   ]
  },
  {
   "cell_type": "code",
   "execution_count": 34,
   "id": "8a56868b-b590-46ac-a11f-fa87a1233360",
   "metadata": {},
   "outputs": [
    {
     "name": "stdout",
     "output_type": "stream",
     "text": [
      "playing -----> play\n",
      "walking -----> walk\n",
      "sleeping -----> sleep\n",
      "plays -----> play\n",
      "flying -----> fly\n",
      "eating -----> eat\n",
      "eats -----> eat\n",
      "played -----> play\n",
      "walked -----> walk\n",
      "happiness -----> happiness\n",
      "enjoyable -----> enjoyable\n",
      "releases -----> release\n",
      "helping -----> help\n",
      "happiness -----> happiness\n",
      "running -----> run\n"
     ]
    }
   ],
   "source": [
    "for i in words:\n",
    "    print(i,\"----->\",wl.lemmatize(i,pos = \"v\"))"
   ]
  },
  {
   "cell_type": "code",
   "execution_count": null,
   "id": "bbd13580-fec0-46df-974c-d887fea373a3",
   "metadata": {},
   "outputs": [],
   "source": []
  },
  {
   "cell_type": "code",
   "execution_count": null,
   "id": "b6804335-2da7-43bc-a432-55e418eabc01",
   "metadata": {},
   "outputs": [],
   "source": []
  },
  {
   "cell_type": "code",
   "execution_count": null,
   "id": "9609b3b4-8862-47a2-b46a-5f45b71b95eb",
   "metadata": {},
   "outputs": [],
   "source": []
  },
  {
   "cell_type": "code",
   "execution_count": null,
   "id": "ee079530-7a3c-4350-a511-623845c05f3d",
   "metadata": {},
   "outputs": [],
   "source": []
  },
  {
   "cell_type": "code",
   "execution_count": null,
   "id": "fa0706e3-6875-4353-9e01-8ecc5515dfce",
   "metadata": {},
   "outputs": [],
   "source": []
  }
 ],
 "metadata": {
  "kernelspec": {
   "display_name": "Python 3 (ipykernel)",
   "language": "python",
   "name": "python3"
  },
  "language_info": {
   "codemirror_mode": {
    "name": "ipython",
    "version": 3
   },
   "file_extension": ".py",
   "mimetype": "text/x-python",
   "name": "python",
   "nbconvert_exporter": "python",
   "pygments_lexer": "ipython3",
   "version": "3.13.5"
  }
 },
 "nbformat": 4,
 "nbformat_minor": 5
}
