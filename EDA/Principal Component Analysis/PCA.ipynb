{
 "cells": [
  {
   "cell_type": "markdown",
   "id": "210fc376-9686-44c7-a729-542a5d2a4423",
   "metadata": {},
   "source": [
    "PCA --> Principal Component Analysis\n",
    "it is a dimensional reduction technique in ML and statistics \n",
    "It help in simplifying large data set by transforming them into smaller set of data while retaining as much information as possible\n",
    "\n",
    "\n",
    "\n",
    "Why to use PCA?\n",
    "1. When your data has many features\n",
    "2. reduce computational cost\n",
    "3. remove noise and redundancy\n",
    "4. enhance model performance by removing irrelevant features\n",
    "\n",
    "\n",
    "Eigen Value :- It help us to understand that how much information is captured by a column by a dataset\n",
    "\n",
    "General Rules:\n",
    "1. Variance >=90%             excellent model performance\n",
    "            >= 80%                       good performance\n",
    "            >= 70%                    average performance\n",
    "   "
   ]
  }
 ],
 "metadata": {
  "kernelspec": {
   "display_name": "Python [conda env:base] *",
   "language": "python",
   "name": "conda-base-py"
  },
  "language_info": {
   "codemirror_mode": {
    "name": "ipython",
    "version": 3
   },
   "file_extension": ".py",
   "mimetype": "text/x-python",
   "name": "python",
   "nbconvert_exporter": "python",
   "pygments_lexer": "ipython3",
   "version": "3.13.5"
  }
 },
 "nbformat": 4,
 "nbformat_minor": 5
}
