{
 "cells": [
  {
   "cell_type": "code",
   "execution_count": 16,
   "id": "7f1dfcf6-74c9-42f3-96e2-a4eadf33d8dd",
   "metadata": {},
   "outputs": [],
   "source": [
    "import pandas as pd\n",
    "import numpy as np\n",
    "import matplotlib.pyplot as plt\n",
    "import warnings\n",
    "warnings.filterwarnings(\"ignore\")"
   ]
  },
  {
   "cell_type": "code",
   "execution_count": 3,
   "id": "7c0d2954-9985-49ae-91da-f16ddbce58b9",
   "metadata": {},
   "outputs": [],
   "source": [
    "df = pd.read_csv(\"car_done.csv\")"
   ]
  },
  {
   "cell_type": "code",
   "execution_count": 4,
   "id": "31b40ed2-d131-4a6d-abdf-275aa59bab7b",
   "metadata": {},
   "outputs": [
    {
     "data": {
      "text/html": [
       "<div>\n",
       "<style scoped>\n",
       "    .dataframe tbody tr th:only-of-type {\n",
       "        vertical-align: middle;\n",
       "    }\n",
       "\n",
       "    .dataframe tbody tr th {\n",
       "        vertical-align: top;\n",
       "    }\n",
       "\n",
       "    .dataframe thead th {\n",
       "        text-align: right;\n",
       "    }\n",
       "</style>\n",
       "<table border=\"1\" class=\"dataframe\">\n",
       "  <thead>\n",
       "    <tr style=\"text-align: right;\">\n",
       "      <th></th>\n",
       "      <th>Unnamed: 0</th>\n",
       "      <th>Manufacturer</th>\n",
       "      <th>Model</th>\n",
       "      <th>Sales_in_thousands</th>\n",
       "      <th>four_year_resale_value</th>\n",
       "      <th>Vehicle_type</th>\n",
       "      <th>Price_in_thousands</th>\n",
       "      <th>Engine_size</th>\n",
       "      <th>Horsepower</th>\n",
       "      <th>Wheelbase</th>\n",
       "      <th>Width</th>\n",
       "      <th>Length</th>\n",
       "      <th>Curb_weight</th>\n",
       "      <th>Fuel_capacity</th>\n",
       "      <th>Fuel_efficiency</th>\n",
       "      <th>Latest_Launch</th>\n",
       "      <th>Power_perf_factor</th>\n",
       "    </tr>\n",
       "  </thead>\n",
       "  <tbody>\n",
       "    <tr>\n",
       "      <th>0</th>\n",
       "      <td>0</td>\n",
       "      <td>Acura</td>\n",
       "      <td>Integra</td>\n",
       "      <td>16.919</td>\n",
       "      <td>16.360</td>\n",
       "      <td>Passenger</td>\n",
       "      <td>21.50</td>\n",
       "      <td>1.8</td>\n",
       "      <td>140.0</td>\n",
       "      <td>101.2</td>\n",
       "      <td>67.3</td>\n",
       "      <td>172.4</td>\n",
       "      <td>2.639</td>\n",
       "      <td>13.2</td>\n",
       "      <td>28.0</td>\n",
       "      <td>2/2/2012</td>\n",
       "      <td>58.280150</td>\n",
       "    </tr>\n",
       "    <tr>\n",
       "      <th>1</th>\n",
       "      <td>1</td>\n",
       "      <td>Acura</td>\n",
       "      <td>TL</td>\n",
       "      <td>39.384</td>\n",
       "      <td>19.875</td>\n",
       "      <td>Passenger</td>\n",
       "      <td>28.40</td>\n",
       "      <td>3.2</td>\n",
       "      <td>225.0</td>\n",
       "      <td>108.1</td>\n",
       "      <td>70.3</td>\n",
       "      <td>192.9</td>\n",
       "      <td>3.517</td>\n",
       "      <td>17.2</td>\n",
       "      <td>25.0</td>\n",
       "      <td>6/3/2011</td>\n",
       "      <td>91.370778</td>\n",
       "    </tr>\n",
       "    <tr>\n",
       "      <th>2</th>\n",
       "      <td>2</td>\n",
       "      <td>Acura</td>\n",
       "      <td>CL</td>\n",
       "      <td>14.114</td>\n",
       "      <td>18.225</td>\n",
       "      <td>Passenger</td>\n",
       "      <td>NaN</td>\n",
       "      <td>3.2</td>\n",
       "      <td>225.0</td>\n",
       "      <td>106.9</td>\n",
       "      <td>70.6</td>\n",
       "      <td>192.0</td>\n",
       "      <td>3.470</td>\n",
       "      <td>17.2</td>\n",
       "      <td>26.0</td>\n",
       "      <td>1/4/2012</td>\n",
       "      <td>NaN</td>\n",
       "    </tr>\n",
       "    <tr>\n",
       "      <th>3</th>\n",
       "      <td>3</td>\n",
       "      <td>Acura</td>\n",
       "      <td>RL</td>\n",
       "      <td>8.588</td>\n",
       "      <td>29.725</td>\n",
       "      <td>Passenger</td>\n",
       "      <td>42.00</td>\n",
       "      <td>3.5</td>\n",
       "      <td>210.0</td>\n",
       "      <td>114.6</td>\n",
       "      <td>71.4</td>\n",
       "      <td>196.6</td>\n",
       "      <td>3.850</td>\n",
       "      <td>18.0</td>\n",
       "      <td>22.0</td>\n",
       "      <td>3/10/2011</td>\n",
       "      <td>91.389779</td>\n",
       "    </tr>\n",
       "    <tr>\n",
       "      <th>4</th>\n",
       "      <td>4</td>\n",
       "      <td>Audi</td>\n",
       "      <td>A4</td>\n",
       "      <td>20.397</td>\n",
       "      <td>22.255</td>\n",
       "      <td>Passenger</td>\n",
       "      <td>23.99</td>\n",
       "      <td>1.8</td>\n",
       "      <td>150.0</td>\n",
       "      <td>102.6</td>\n",
       "      <td>68.2</td>\n",
       "      <td>178.0</td>\n",
       "      <td>2.998</td>\n",
       "      <td>16.4</td>\n",
       "      <td>27.0</td>\n",
       "      <td>10/8/2011</td>\n",
       "      <td>62.777639</td>\n",
       "    </tr>\n",
       "    <tr>\n",
       "      <th>...</th>\n",
       "      <td>...</td>\n",
       "      <td>...</td>\n",
       "      <td>...</td>\n",
       "      <td>...</td>\n",
       "      <td>...</td>\n",
       "      <td>...</td>\n",
       "      <td>...</td>\n",
       "      <td>...</td>\n",
       "      <td>...</td>\n",
       "      <td>...</td>\n",
       "      <td>...</td>\n",
       "      <td>...</td>\n",
       "      <td>...</td>\n",
       "      <td>...</td>\n",
       "      <td>...</td>\n",
       "      <td>...</td>\n",
       "      <td>...</td>\n",
       "    </tr>\n",
       "    <tr>\n",
       "      <th>152</th>\n",
       "      <td>152</td>\n",
       "      <td>Volvo</td>\n",
       "      <td>V40</td>\n",
       "      <td>3.545</td>\n",
       "      <td>NaN</td>\n",
       "      <td>Passenger</td>\n",
       "      <td>24.40</td>\n",
       "      <td>1.9</td>\n",
       "      <td>160.0</td>\n",
       "      <td>100.5</td>\n",
       "      <td>67.6</td>\n",
       "      <td>176.6</td>\n",
       "      <td>3.042</td>\n",
       "      <td>15.8</td>\n",
       "      <td>25.0</td>\n",
       "      <td>9/21/2011</td>\n",
       "      <td>66.498812</td>\n",
       "    </tr>\n",
       "    <tr>\n",
       "      <th>153</th>\n",
       "      <td>153</td>\n",
       "      <td>Volvo</td>\n",
       "      <td>S70</td>\n",
       "      <td>15.245</td>\n",
       "      <td>NaN</td>\n",
       "      <td>Passenger</td>\n",
       "      <td>27.50</td>\n",
       "      <td>2.4</td>\n",
       "      <td>168.0</td>\n",
       "      <td>104.9</td>\n",
       "      <td>69.3</td>\n",
       "      <td>185.9</td>\n",
       "      <td>3.208</td>\n",
       "      <td>17.9</td>\n",
       "      <td>25.0</td>\n",
       "      <td>11/24/2012</td>\n",
       "      <td>70.654495</td>\n",
       "    </tr>\n",
       "    <tr>\n",
       "      <th>154</th>\n",
       "      <td>154</td>\n",
       "      <td>Volvo</td>\n",
       "      <td>V70</td>\n",
       "      <td>17.531</td>\n",
       "      <td>NaN</td>\n",
       "      <td>Passenger</td>\n",
       "      <td>28.80</td>\n",
       "      <td>2.4</td>\n",
       "      <td>168.0</td>\n",
       "      <td>104.9</td>\n",
       "      <td>69.3</td>\n",
       "      <td>186.2</td>\n",
       "      <td>3.259</td>\n",
       "      <td>17.9</td>\n",
       "      <td>25.0</td>\n",
       "      <td>6/25/2011</td>\n",
       "      <td>71.155978</td>\n",
       "    </tr>\n",
       "    <tr>\n",
       "      <th>155</th>\n",
       "      <td>155</td>\n",
       "      <td>Volvo</td>\n",
       "      <td>C70</td>\n",
       "      <td>3.493</td>\n",
       "      <td>NaN</td>\n",
       "      <td>Passenger</td>\n",
       "      <td>45.50</td>\n",
       "      <td>2.3</td>\n",
       "      <td>236.0</td>\n",
       "      <td>104.9</td>\n",
       "      <td>71.5</td>\n",
       "      <td>185.7</td>\n",
       "      <td>3.601</td>\n",
       "      <td>18.5</td>\n",
       "      <td>23.0</td>\n",
       "      <td>4/26/2011</td>\n",
       "      <td>101.623357</td>\n",
       "    </tr>\n",
       "    <tr>\n",
       "      <th>156</th>\n",
       "      <td>156</td>\n",
       "      <td>Volvo</td>\n",
       "      <td>S80</td>\n",
       "      <td>18.969</td>\n",
       "      <td>NaN</td>\n",
       "      <td>Passenger</td>\n",
       "      <td>36.00</td>\n",
       "      <td>2.9</td>\n",
       "      <td>201.0</td>\n",
       "      <td>109.9</td>\n",
       "      <td>72.1</td>\n",
       "      <td>189.8</td>\n",
       "      <td>3.600</td>\n",
       "      <td>21.1</td>\n",
       "      <td>24.0</td>\n",
       "      <td>11/14/2011</td>\n",
       "      <td>85.735655</td>\n",
       "    </tr>\n",
       "  </tbody>\n",
       "</table>\n",
       "<p>157 rows × 17 columns</p>\n",
       "</div>"
      ],
      "text/plain": [
       "     Unnamed: 0 Manufacturer    Model  Sales_in_thousands  \\\n",
       "0             0        Acura  Integra              16.919   \n",
       "1             1        Acura       TL              39.384   \n",
       "2             2        Acura       CL              14.114   \n",
       "3             3        Acura       RL               8.588   \n",
       "4             4         Audi       A4              20.397   \n",
       "..          ...          ...      ...                 ...   \n",
       "152         152        Volvo      V40               3.545   \n",
       "153         153        Volvo      S70              15.245   \n",
       "154         154        Volvo      V70              17.531   \n",
       "155         155        Volvo      C70               3.493   \n",
       "156         156        Volvo      S80              18.969   \n",
       "\n",
       "     four_year_resale_value Vehicle_type  Price_in_thousands  Engine_size  \\\n",
       "0                    16.360    Passenger               21.50          1.8   \n",
       "1                    19.875    Passenger               28.40          3.2   \n",
       "2                    18.225    Passenger                 NaN          3.2   \n",
       "3                    29.725    Passenger               42.00          3.5   \n",
       "4                    22.255    Passenger               23.99          1.8   \n",
       "..                      ...          ...                 ...          ...   \n",
       "152                     NaN    Passenger               24.40          1.9   \n",
       "153                     NaN    Passenger               27.50          2.4   \n",
       "154                     NaN    Passenger               28.80          2.4   \n",
       "155                     NaN    Passenger               45.50          2.3   \n",
       "156                     NaN    Passenger               36.00          2.9   \n",
       "\n",
       "     Horsepower  Wheelbase  Width  Length  Curb_weight  Fuel_capacity  \\\n",
       "0         140.0      101.2   67.3   172.4        2.639           13.2   \n",
       "1         225.0      108.1   70.3   192.9        3.517           17.2   \n",
       "2         225.0      106.9   70.6   192.0        3.470           17.2   \n",
       "3         210.0      114.6   71.4   196.6        3.850           18.0   \n",
       "4         150.0      102.6   68.2   178.0        2.998           16.4   \n",
       "..          ...        ...    ...     ...          ...            ...   \n",
       "152       160.0      100.5   67.6   176.6        3.042           15.8   \n",
       "153       168.0      104.9   69.3   185.9        3.208           17.9   \n",
       "154       168.0      104.9   69.3   186.2        3.259           17.9   \n",
       "155       236.0      104.9   71.5   185.7        3.601           18.5   \n",
       "156       201.0      109.9   72.1   189.8        3.600           21.1   \n",
       "\n",
       "     Fuel_efficiency Latest_Launch  Power_perf_factor  \n",
       "0               28.0      2/2/2012          58.280150  \n",
       "1               25.0      6/3/2011          91.370778  \n",
       "2               26.0      1/4/2012                NaN  \n",
       "3               22.0     3/10/2011          91.389779  \n",
       "4               27.0     10/8/2011          62.777639  \n",
       "..               ...           ...                ...  \n",
       "152             25.0     9/21/2011          66.498812  \n",
       "153             25.0    11/24/2012          70.654495  \n",
       "154             25.0     6/25/2011          71.155978  \n",
       "155             23.0     4/26/2011         101.623357  \n",
       "156             24.0    11/14/2011          85.735655  \n",
       "\n",
       "[157 rows x 17 columns]"
      ]
     },
     "execution_count": 4,
     "metadata": {},
     "output_type": "execute_result"
    }
   ],
   "source": [
    "df"
   ]
  },
  {
   "cell_type": "code",
   "execution_count": 5,
   "id": "0797e2f1-14fc-4822-bad4-a6d147a7ade6",
   "metadata": {},
   "outputs": [
    {
     "name": "stdout",
     "output_type": "stream",
     "text": [
      "<class 'pandas.core.frame.DataFrame'>\n",
      "RangeIndex: 157 entries, 0 to 156\n",
      "Data columns (total 17 columns):\n",
      " #   Column                  Non-Null Count  Dtype  \n",
      "---  ------                  --------------  -----  \n",
      " 0   Unnamed: 0              157 non-null    int64  \n",
      " 1   Manufacturer            157 non-null    object \n",
      " 2   Model                   157 non-null    object \n",
      " 3   Sales_in_thousands      157 non-null    float64\n",
      " 4   four_year_resale_value  121 non-null    float64\n",
      " 5   Vehicle_type            157 non-null    object \n",
      " 6   Price_in_thousands      155 non-null    float64\n",
      " 7   Engine_size             156 non-null    float64\n",
      " 8   Horsepower              156 non-null    float64\n",
      " 9   Wheelbase               156 non-null    float64\n",
      " 10  Width                   156 non-null    float64\n",
      " 11  Length                  156 non-null    float64\n",
      " 12  Curb_weight             155 non-null    float64\n",
      " 13  Fuel_capacity           156 non-null    float64\n",
      " 14  Fuel_efficiency         154 non-null    float64\n",
      " 15  Latest_Launch           157 non-null    object \n",
      " 16  Power_perf_factor       155 non-null    float64\n",
      "dtypes: float64(12), int64(1), object(4)\n",
      "memory usage: 21.0+ KB\n"
     ]
    }
   ],
   "source": [
    "df.info()"
   ]
  },
  {
   "cell_type": "code",
   "execution_count": 7,
   "id": "c9e88eb3-712b-4b70-a59e-935e6f6bdf0f",
   "metadata": {},
   "outputs": [
    {
     "data": {
      "text/plain": [
       "Unnamed: 0                 0\n",
       "Manufacturer               0\n",
       "Model                      0\n",
       "Sales_in_thousands         0\n",
       "four_year_resale_value    36\n",
       "Vehicle_type               0\n",
       "Price_in_thousands         2\n",
       "Engine_size                1\n",
       "Horsepower                 1\n",
       "Wheelbase                  1\n",
       "Width                      1\n",
       "Length                     1\n",
       "Curb_weight                2\n",
       "Fuel_capacity              1\n",
       "Fuel_efficiency            3\n",
       "Latest_Launch              0\n",
       "Power_perf_factor          2\n",
       "dtype: int64"
      ]
     },
     "execution_count": 7,
     "metadata": {},
     "output_type": "execute_result"
    }
   ],
   "source": [
    "#check the null values\n",
    "df.isnull().sum()"
   ]
  },
  {
   "cell_type": "code",
   "execution_count": 8,
   "id": "5cd1909e-4535-4177-a3e4-dbd53f2e2cae",
   "metadata": {},
   "outputs": [
    {
     "data": {
      "text/plain": [
       "four_year_resale_value\n",
       "18.225    2\n",
       "12.025    2\n",
       "7.750     2\n",
       "16.575    2\n",
       "16.360    1\n",
       "         ..\n",
       "34.080    1\n",
       "11.425    1\n",
       "13.240    1\n",
       "16.725    1\n",
       "13.760    1\n",
       "Name: count, Length: 117, dtype: int64"
      ]
     },
     "execution_count": 8,
     "metadata": {},
     "output_type": "execute_result"
    }
   ],
   "source": [
    "#return the value count of the column\n",
    "df[\"four_year_resale_value\"].value_counts()"
   ]
  },
  {
   "cell_type": "code",
   "execution_count": 35,
   "id": "a135a9ab-52af-4fd0-bcde-7d934297e75f",
   "metadata": {},
   "outputs": [
    {
     "name": "stdout",
     "output_type": "stream",
     "text": [
      "count    157.000000\n",
      "mean      17.180318\n",
      "std       10.178562\n",
      "min        5.160000\n",
      "25%       12.545000\n",
      "50%       14.180000\n",
      "75%       18.140000\n",
      "max       67.550000\n",
      "Name: four_year_resale_value, dtype: float64\n",
      "median 14.18\n"
     ]
    }
   ],
   "source": [
    "print(df[\"four_year_resale_value\"].describe())\n",
    "print(\"median\",df[\"four_year_resale_value\"].median())"
   ]
  },
  {
   "cell_type": "code",
   "execution_count": 18,
   "id": "fb7855bc-f121-4d21-a72f-719a2b23ee4b",
   "metadata": {},
   "outputs": [],
   "source": [
    "df[\"four_year_resale_value\"].fillna(value = df[\"four_year_resale_value\"].median(), inplace=True)"
   ]
  },
  {
   "cell_type": "code",
   "execution_count": 19,
   "id": "28e79d74-6fdf-4253-9e0f-a670319409dd",
   "metadata": {
    "scrolled": true
   },
   "outputs": [
    {
     "data": {
      "text/plain": [
       "Unnamed: 0                0\n",
       "Manufacturer              0\n",
       "Model                     0\n",
       "Sales_in_thousands        0\n",
       "four_year_resale_value    0\n",
       "Vehicle_type              0\n",
       "Price_in_thousands        2\n",
       "Engine_size               1\n",
       "Horsepower                1\n",
       "Wheelbase                 1\n",
       "Width                     1\n",
       "Length                    1\n",
       "Curb_weight               2\n",
       "Fuel_capacity             1\n",
       "Fuel_efficiency           3\n",
       "Latest_Launch             0\n",
       "Power_perf_factor         2\n",
       "dtype: int64"
      ]
     },
     "execution_count": 19,
     "metadata": {},
     "output_type": "execute_result"
    }
   ],
   "source": [
    "df.isnull().sum()"
   ]
  },
  {
   "cell_type": "code",
   "execution_count": 20,
   "id": "f128896b-e4ad-4988-8041-8478519ae62d",
   "metadata": {},
   "outputs": [],
   "source": [
    "df.ffill(inplace = True)"
   ]
  },
  {
   "cell_type": "code",
   "execution_count": 21,
   "id": "bc0aadac-0541-4731-b03f-aa5042f1f698",
   "metadata": {},
   "outputs": [
    {
     "data": {
      "text/plain": [
       "Unnamed: 0                0\n",
       "Manufacturer              0\n",
       "Model                     0\n",
       "Sales_in_thousands        0\n",
       "four_year_resale_value    0\n",
       "Vehicle_type              0\n",
       "Price_in_thousands        0\n",
       "Engine_size               0\n",
       "Horsepower                0\n",
       "Wheelbase                 0\n",
       "Width                     0\n",
       "Length                    0\n",
       "Curb_weight               0\n",
       "Fuel_capacity             0\n",
       "Fuel_efficiency           0\n",
       "Latest_Launch             0\n",
       "Power_perf_factor         0\n",
       "dtype: int64"
      ]
     },
     "execution_count": 21,
     "metadata": {},
     "output_type": "execute_result"
    }
   ],
   "source": [
    "df.isnull().sum()"
   ]
  },
  {
   "cell_type": "code",
   "execution_count": 22,
   "id": "821a6f8b-0354-49d1-bc42-5652fb383f96",
   "metadata": {},
   "outputs": [
    {
     "data": {
      "text/plain": [
       "Unnamed: 0                157\n",
       "Manufacturer               30\n",
       "Model                     156\n",
       "Sales_in_thousands        157\n",
       "four_year_resale_value    117\n",
       "Vehicle_type                2\n",
       "Price_in_thousands        152\n",
       "Engine_size                31\n",
       "Horsepower                 66\n",
       "Wheelbase                  88\n",
       "Width                      78\n",
       "Length                    127\n",
       "Curb_weight               147\n",
       "Fuel_capacity              55\n",
       "Fuel_efficiency            20\n",
       "Latest_Launch             130\n",
       "Power_perf_factor         154\n",
       "dtype: int64"
      ]
     },
     "execution_count": 22,
     "metadata": {},
     "output_type": "execute_result"
    }
   ],
   "source": [
    "#return number of unique values in each column\n",
    "df.nunique()"
   ]
  },
  {
   "cell_type": "code",
   "execution_count": 24,
   "id": "fa19fbc9-ae77-4a92-9c51-60333c6f3263",
   "metadata": {},
   "outputs": [],
   "source": [
    "df.drop(columns=\"Unnamed: 0\",inplace = True)"
   ]
  },
  {
   "cell_type": "code",
   "execution_count": 25,
   "id": "ce5e05c5-ca6e-453d-8a5d-288bb2f5fe7b",
   "metadata": {},
   "outputs": [
    {
     "data": {
      "text/plain": [
       "Index(['Manufacturer', 'Model', 'Sales_in_thousands', 'four_year_resale_value',\n",
       "       'Vehicle_type', 'Price_in_thousands', 'Engine_size', 'Horsepower',\n",
       "       'Wheelbase', 'Width', 'Length', 'Curb_weight', 'Fuel_capacity',\n",
       "       'Fuel_efficiency', 'Latest_Launch', 'Power_perf_factor'],\n",
       "      dtype='object')"
      ]
     },
     "execution_count": 25,
     "metadata": {},
     "output_type": "execute_result"
    }
   ],
   "source": [
    "#print only columns\n",
    "df.columns"
   ]
  },
  {
   "cell_type": "code",
   "execution_count": 26,
   "id": "2e9bdba7-398c-4edc-83dd-2214ba04988c",
   "metadata": {},
   "outputs": [
    {
     "data": {
      "text/plain": [
       "np.int64(0)"
      ]
     },
     "execution_count": 26,
     "metadata": {},
     "output_type": "execute_result"
    }
   ],
   "source": [
    "#duplicate values\n",
    "df.duplicated().sum()"
   ]
  },
  {
   "cell_type": "code",
   "execution_count": 30,
   "id": "c6e4c74b-3e93-4c82-9fd9-28838988ec33",
   "metadata": {},
   "outputs": [
    {
     "data": {
      "text/plain": [
       "Index(['Sales_in_thousands', 'four_year_resale_value', 'Price_in_thousands',\n",
       "       'Engine_size', 'Horsepower', 'Wheelbase', 'Width', 'Length',\n",
       "       'Curb_weight', 'Fuel_capacity', 'Fuel_efficiency', 'Power_perf_factor'],\n",
       "      dtype='object')"
      ]
     },
     "execution_count": 30,
     "metadata": {},
     "output_type": "execute_result"
    }
   ],
   "source": [
    "#return specific type of data types\n",
    "df.select_dtypes([int,float]).columns"
   ]
  },
  {
   "cell_type": "code",
   "execution_count": 32,
   "id": "a14925d6-f9c8-4d09-be67-2359c211e186",
   "metadata": {},
   "outputs": [
    {
     "data": {
      "image/png": "[encoded data removed]",
      "text/plain": [
       "<Figure size 640x480 with 1 Axes>"
      ]
     },
     "metadata": {},
     "output_type": "display_data"
    }
   ],
   "source": [
    "plt.boxplot(df[\"Sales_in_thousands\"])\n",
    "plt.show()"
   ]
  },
  {
   "cell_type": "code",
   "execution_count": 33,
   "id": "9965e1df-c912-45d5-93af-6dbebdeb3bd0",
   "metadata": {},
   "outputs": [
    {
     "data": {
      "image/png": "[encoded data removed]",
      "text/plain": [
       "<Figure size 640x480 with 1 Axes>"
      ]
     },
     "metadata": {},
     "output_type": "display_data"
    }
   ],
   "source": [
    "plt.boxplot(df[\"four_year_resale_value\"])\n",
    "plt.show()"
   ]
  },
  {
   "cell_type": "code",
   "execution_count": 34,
   "id": "91f06630-adfb-44b1-a90e-6a2d26901192",
   "metadata": {},
   "outputs": [
    {
     "data": {
      "image/png": "[encoded data removed]",
      "text/plain": [
       "<Figure size 640x480 with 1 Axes>"
      ]
     },
     "metadata": {},
     "output_type": "display_data"
    }
   ],
   "source": [
    "plt.boxplot(df[\"Price_in_thousands\"])\n",
    "plt.show()"
   ]
  },
  {
   "cell_type": "code",
   "execution_count": 37,
   "id": "79dfa4c7-cdd8-4606-a321-01b6ce2ae827",
   "metadata": {},
   "outputs": [],
   "source": [
    "#outlier removal\n",
    "def IQR(x):\n",
    "    q1=x.quantile(0.25)\n",
    "    q3=x.quantile(0.75)\n",
    "    iqr=q3-q1\n",
    "    lf=q1-(1.5*iqr)\n",
    "    uf=q3+(1.5*iqr)\n",
    "    print(\"LF\",lf)\n",
    "    print(\"UF\",uf)"
   ]
  },
  {
   "cell_type": "code",
   "execution_count": 38,
   "id": "b70d34f3-505d-472a-8555-7b6f9ababc73",
   "metadata": {},
   "outputs": [
    {
     "name": "stdout",
     "output_type": "stream",
     "text": [
      "LF -66.649\n",
      "UF 148.719\n"
     ]
    }
   ],
   "source": [
    "IQR(df[\"Sales_in_thousands\"])"
   ]
  },
  {
   "cell_type": "code",
   "execution_count": 41,
   "id": "c6d4c3fd-eff6-44b0-8763-19e16dc042ed",
   "metadata": {},
   "outputs": [],
   "source": [
    "df[\"Sales_in_thousands\"] = np.where(df[\"Sales_in_thousands\"]>148.719,148.719,df[\"Sales_in_thousands\"])"
   ]
  },
  {
   "cell_type": "code",
   "execution_count": 42,
   "id": "659bdf65-afcd-4947-9c2f-54f33d77f3f3",
   "metadata": {},
   "outputs": [
    {
     "name": "stdout",
     "output_type": "stream",
     "text": [
      "LF 4.152499999999998\n",
      "UF 26.532500000000002\n"
     ]
    }
   ],
   "source": [
    "IQR(df[\"four_year_resale_value\"])"
   ]
  },
  {
   "cell_type": "code",
   "execution_count": 43,
   "id": "027f6938-df55-4227-9617-9a605c5b3d06",
   "metadata": {},
   "outputs": [],
   "source": [
    "df[\"four_year_resale_value\"] = np.where(df[\"four_year_resale_value\"]>26.5325,26.5325,df[\"four_year_resale_value\"])"
   ]
  },
  {
   "cell_type": "code",
   "execution_count": 44,
   "id": "1004fe4c-32b7-479d-8ba2-15894f37be29",
   "metadata": {},
   "outputs": [
    {
     "name": "stdout",
     "output_type": "stream",
     "text": [
      "LF -2.5325000000000024\n",
      "UF 52.6075\n"
     ]
    }
   ],
   "source": [
    "IQR(df[\"Price_in_thousands\"])"
   ]
  },
  {
   "cell_type": "code",
   "execution_count": 45,
   "id": "1df6e184-1d3f-4eaa-9343-585b05f695eb",
   "metadata": {},
   "outputs": [],
   "source": [
    "df[\"Price_in_thousands\"] = np.where(df[\"Price_in_thousands\"]>52.6075,52.6075,df[\"Price_in_thousands\"])"
   ]
  },
  {
   "cell_type": "code",
   "execution_count": 46,
   "id": "793941f2-3a18-47ba-a60b-c73ba83a0b07",
   "metadata": {},
   "outputs": [
    {
     "data": {
      "image/png": "[encoded data removed]",
      "text/plain": [
       "<Figure size 640x480 with 1 Axes>"
      ]
     },
     "metadata": {},
     "output_type": "display_data"
    }
   ],
   "source": [
    "plt.boxplot(df[\"Sales_in_thousands\"])\n",
    "plt.show()"
   ]
  },
  {
   "cell_type": "code",
   "execution_count": 47,
   "id": "73e2e698-659f-4718-94ca-6d1b14b0930a",
   "metadata": {},
   "outputs": [
    {
     "data": {
      "image/png": "[encoded data removed]",
      "text/plain": [
       "<Figure size 640x480 with 1 Axes>"
      ]
     },
     "metadata": {},
     "output_type": "display_data"
    }
   ],
   "source": [
    "plt.boxplot(df[\"four_year_resale_value\"])\n",
    "plt.show()"
   ]
  },
  {
   "cell_type": "code",
   "execution_count": 48,
   "id": "f7d4e573-2030-46ca-9a3e-cfc0f5a34e5e",
   "metadata": {},
   "outputs": [
    {
     "data": {
      "image/png": "[encoded data removed]",
      "text/plain": [
       "<Figure size 640x480 with 1 Axes>"
      ]
     },
     "metadata": {},
     "output_type": "display_data"
    }
   ],
   "source": [
    "plt.boxplot(df[\"Price_in_thousands\"])\n",
    "plt.show()"
   ]
  },
  {
   "cell_type": "code",
   "execution_count": 49,
   "id": "61444357-7bd9-41e2-8ca8-6d1050f1cb85",
   "metadata": {},
   "outputs": [
    {
     "name": "stdout",
     "output_type": "stream",
     "text": [
      "LF 0.49999999999999956\n",
      "UF 5.300000000000001\n"
     ]
    }
   ],
   "source": [
    "IQR(df['Engine_size'])"
   ]
  },
  {
   "cell_type": "code",
   "execution_count": 50,
   "id": "c77e4465-83bd-4f67-87c2-1db9e01625ab",
   "metadata": {},
   "outputs": [],
   "source": [
    "df['Engine_size'] = np.where(df['Engine_size']>5.3,5.3,df['Engine_size'])"
   ]
  },
  {
   "cell_type": "code",
   "execution_count": 51,
   "id": "0be9462e-b26f-4547-84bd-da80d539b85c",
   "metadata": {},
   "outputs": [
    {
     "data": {
      "image/png": "[encoded data removed]",
      "text/plain": [
       "<Figure size 640x480 with 1 Axes>"
      ]
     },
     "metadata": {},
     "output_type": "display_data"
    }
   ],
   "source": [
    "plt.boxplot(df['Engine_size'])\n",
    "plt.show()"
   ]
  },
  {
   "cell_type": "code",
   "execution_count": 52,
   "id": "6229f503-89d0-49c3-a57f-3f90d16950c0",
   "metadata": {},
   "outputs": [
    {
     "name": "stdout",
     "output_type": "stream",
     "text": [
      "LF 52.5\n",
      "UF 312.5\n"
     ]
    }
   ],
   "source": [
    "IQR(df[\"Horsepower\"])"
   ]
  },
  {
   "cell_type": "code",
   "execution_count": 53,
   "id": "1808f807-6460-4f13-81ca-d73ceeef2004",
   "metadata": {},
   "outputs": [],
   "source": [
    "df[\"Horsepower\"] = np.where(df[\"Horsepower\"]>312.5,312.5,df[\"Horsepower\"])"
   ]
  },
  {
   "cell_type": "code",
   "execution_count": 54,
   "id": "72b033b4-25ac-414d-afe2-fb58726458fc",
   "metadata": {},
   "outputs": [
    {
     "data": {
      "image/png": "[encoded data removed]",
      "text/plain": [
       "<Figure size 640x480 with 1 Axes>"
      ]
     },
     "metadata": {},
     "output_type": "display_data"
    }
   ],
   "source": [
    "plt.boxplot(df[\"Horsepower\"])\n",
    "plt.show()"
   ]
  },
  {
   "cell_type": "code",
   "execution_count": 55,
   "id": "1edfa22b-1c35-4e76-9901-7aa408e94553",
   "metadata": {},
   "outputs": [
    {
     "name": "stdout",
     "output_type": "stream",
     "text": [
      "LF 89.19999999999999\n",
      "UF 126.0\n"
     ]
    }
   ],
   "source": [
    "IQR(df[\"Wheelbase\"])"
   ]
  },
  {
   "cell_type": "code",
   "execution_count": 56,
   "id": "19b359b4-8aaa-4341-8b13-cf0d7d151c84",
   "metadata": {},
   "outputs": [],
   "source": [
    "df[\"Wheelbase\"] = np.where(df[\"Wheelbase\"]>126.0,126.0,df[\"Wheelbase\"])"
   ]
  },
  {
   "cell_type": "code",
   "execution_count": 58,
   "id": "bfea471e-5c57-46fd-b5db-92bfac67ea45",
   "metadata": {},
   "outputs": [
    {
     "data": {
      "image/png": "[encoded data removed]",
      "text/plain": [
       "<Figure size 640x480 with 1 Axes>"
      ]
     },
     "metadata": {},
     "output_type": "display_data"
    }
   ],
   "source": [
    "plt.boxplot(df[\"Wheelbase\"])\n",
    "plt.show()"
   ]
  },
  {
   "cell_type": "code",
   "execution_count": 59,
   "id": "057464e2-93b3-4079-a61f-729ee654c6cd",
   "metadata": {},
   "outputs": [
    {
     "name": "stdout",
     "output_type": "stream",
     "text": [
      "LF 60.750000000000014\n",
      "UF 81.14999999999999\n"
     ]
    }
   ],
   "source": [
    "IQR(df[\"Width\"])"
   ]
  },
  {
   "cell_type": "code",
   "execution_count": 60,
   "id": "27b2bd64-9302-4f3b-9cd9-7ad781931a1e",
   "metadata": {},
   "outputs": [],
   "source": [
    "df[\"Width\"] = np.where(df[\"Width\"]>81.1499,81.1499,df[\"Width\"])"
   ]
  },
  {
   "cell_type": "code",
   "execution_count": 61,
   "id": "669f0e3f-e4de-45ae-97df-1b7a79920829",
   "metadata": {},
   "outputs": [
    {
     "name": "stdout",
     "output_type": "stream",
     "text": [
      "LF 149.7\n",
      "UF 224.09999999999997\n"
     ]
    }
   ],
   "source": [
    "IQR(df[\"Length\"])"
   ]
  },
  {
   "cell_type": "code",
   "execution_count": 62,
   "id": "e5131639-b2c9-4754-b164-b714e78a2557",
   "metadata": {},
   "outputs": [],
   "source": [
    "df[\"Length\"] = np.where(df[\"Length\"]>224.0999,224.0999,df[\"Length\"])"
   ]
  },
  {
   "cell_type": "code",
   "execution_count": 63,
   "id": "dfbbe9df-7e86-47da-8038-f350a93a503c",
   "metadata": {},
   "outputs": [
    {
     "name": "stdout",
     "output_type": "stream",
     "text": [
      "LF 1.706\n",
      "UF 5.09\n"
     ]
    }
   ],
   "source": [
    "IQR(df[\"Curb_weight\"])"
   ]
  },
  {
   "cell_type": "code",
   "execution_count": 64,
   "id": "a4ea76cf-dffa-4174-a23c-b7297be9eb7c",
   "metadata": {},
   "outputs": [],
   "source": [
    "df[\"Curb_weight\"] = np.where(df[\"Curb_weight\"]>5.09,5.09,df[\"Curb_weight\"])"
   ]
  },
  {
   "cell_type": "code",
   "execution_count": 65,
   "id": "92bc2aae-dcb9-4fed-8053-f31cfada13f7",
   "metadata": {},
   "outputs": [
    {
     "name": "stdout",
     "output_type": "stream",
     "text": [
      "LF 10.250000000000002\n",
      "UF 25.049999999999997\n"
     ]
    }
   ],
   "source": [
    "IQR(df[\"Fuel_capacity\"])"
   ]
  },
  {
   "cell_type": "code",
   "execution_count": 66,
   "id": "8cc21367-a6d8-460b-83db-b6ab438b07c0",
   "metadata": {},
   "outputs": [],
   "source": [
    "df[\"Fuel_capacity\"] = np.where(df[\"Fuel_capacity\"]>25.0499,25.0499,df[\"Fuel_capacity\"])"
   ]
  },
  {
   "cell_type": "code",
   "execution_count": 67,
   "id": "a1151d5f-e013-43e0-8390-c9b3a34cfd10",
   "metadata": {},
   "outputs": [
    {
     "name": "stdout",
     "output_type": "stream",
     "text": [
      "LF 13.5\n",
      "UF 33.5\n"
     ]
    }
   ],
   "source": [
    "IQR(df[\"Fuel_efficiency\"])"
   ]
  },
  {
   "cell_type": "code",
   "execution_count": 68,
   "id": "71f990c2-6f34-4fab-8200-86884a49f801",
   "metadata": {},
   "outputs": [],
   "source": [
    "df[\"Fuel_efficiency\"] = np.where(df[\"Fuel_efficiency\"]>33.5,33.5,df[\"Fuel_efficiency\"])"
   ]
  },
  {
   "cell_type": "code",
   "execution_count": 70,
   "id": "6f7df6af-3f06-487c-9279-187499f82685",
   "metadata": {},
   "outputs": [
    {
     "name": "stdout",
     "output_type": "stream",
     "text": [
      "LF 16.50106724999999\n",
      "UF 134.43807973000003\n"
     ]
    }
   ],
   "source": [
    "IQR(df[\"Power_perf_factor\"])"
   ]
  },
  {
   "cell_type": "code",
   "execution_count": 71,
   "id": "2a348bdf-b737-4cdb-9ec8-51823aa04eed",
   "metadata": {},
   "outputs": [],
   "source": [
    "df[\"Power_perf_factor\"] = np.where(df[\"Power_perf_factor\"]>134.4380,134.4380,df[\"Power_perf_factor\"])"
   ]
  },
  {
   "cell_type": "code",
   "execution_count": 77,
   "id": "755ecf7f-76b1-48ca-8831-5baf1bf83e9d",
   "metadata": {},
   "outputs": [],
   "source": [
    "import seaborn as sns\n",
    "def outliers(x):\n",
    "    y=x.select_dtypes(include=[int,float])\n",
    "    for i in y:\n",
    "        sns.boxplot(x=df[i])\n",
    "        plt.title(i)\n",
    "        plt.show()"
   ]
  },
  {
   "cell_type": "code",
   "execution_count": 78,
   "id": "789ba14f-9eb8-4268-b12f-12d6c979e6ce",
   "metadata": {},
   "outputs": [
    {
     "data": {
      "image/png": "[encoded data removed]",
      "text/plain": [
       "<Figure size 640x480 with 1 Axes>"
      ]
     },
     "metadata": {},
     "output_type": "display_data"
    },
    {
     "data": {
      "image/png": "[encoded data removed]",
      "text/plain": [
       "<Figure size 640x480 with 1 Axes>"
      ]
     },
     "metadata": {},
     "output_type": "display_data"
    },
    {
     "data": {
      "image/png": "[encoded data removed]",
      "text/plain": [
       "<Figure size 640x480 with 1 Axes>"
      ]
     },
     "metadata": {},
     "output_type": "display_data"
    },
    {
     "data": {
      "image/png": "[encoded data removed]",
      "text/plain": [
       "<Figure size 640x480 with 1 Axes>"
      ]
     },
     "metadata": {},
     "output_type": "display_data"
    },
    {
     "data": {
      "image/png": "[encoded data removed]",
      "text/plain": [
       "<Figure size 640x480 with 1 Axes>"
      ]
     },
     "metadata": {},
     "output_type": "display_data"
    },
    {
     "data": {
      "image/png": "[encoded data removed]",
      "text/plain": [
       "<Figure size 640x480 with 1 Axes>"
      ]
     },
     "metadata": {},
     "output_type": "display_data"
    },
    {
     "data": {
      "image/png": "[encoded data removed]",
      "text/plain": [
       "<Figure size 640x480 with 1 Axes>"
      ]
     },
     "metadata": {},
     "output_type": "display_data"
    },
    {
     "data": {
      "image/png": "[encoded data removed]",
      "text/plain": [
       "<Figure size 640x480 with 1 Axes>"
      ]
     },
     "metadata": {},
     "output_type": "display_data"
    },
    {
     "data": {
      "image/png": "[encoded data removed]",
      "text/plain": [
       "<Figure size 640x480 with 1 Axes>"
      ]
     },
     "metadata": {},
     "output_type": "display_data"
    },
    {
     "data": {
      "image/png": "[encoded data removed]",
      "text/plain": [
       "<Figure size 640x480 with 1 Axes>"
      ]
     },
     "metadata": {},
     "output_type": "display_data"
    },
    {
     "data": {
      "image/png": "[encoded data removed]",
      "text/plain": [
       "<Figure size 640x480 with 1 Axes>"
      ]
     },
     "metadata": {},
     "output_type": "display_data"
    },
    {
     "data": {
      "image/png": "[encoded data removed]",
      "text/plain": [
       "<Figure size 640x480 with 1 Axes>"
      ]
     },
     "metadata": {},
     "output_type": "display_data"
    }
   ],
   "source": [
    "outliers(df)"
   ]
  },
  {
   "cell_type": "code",
   "execution_count": null,
   "id": "ef1709f2-d49e-485d-8781-9ccf31492b4d",
   "metadata": {},
   "outputs": [],
   "source": []
  }
 ],
 "metadata": {
  "kernelspec": {
   "display_name": "Python [conda env:base] *",
   "language": "python",
   "name": "conda-base-py"
  },
  "language_info": {
   "codemirror_mode": {
    "name": "ipython",
    "version": 3
   },
   "file_extension": ".py",
   "mimetype": "text/x-python",
   "name": "python",
   "nbconvert_exporter": "python",
   "pygments_lexer": "ipython3",
   "version": "3.13.5"
  }
 },
 "nbformat": 4,
 "nbformat_minor": 5
}
