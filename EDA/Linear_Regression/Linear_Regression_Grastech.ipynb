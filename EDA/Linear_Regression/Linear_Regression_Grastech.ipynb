{
 "cells": [
  {
   "cell_type": "code",
   "execution_count": 7,
   "id": "7f1dfcf6-74c9-42f3-96e2-a4eadf33d8dd",
   "metadata": {
    "id": "7f1dfcf6-74c9-42f3-96e2-a4eadf33d8dd"
   },
   "outputs": [],
   "source": [
    "import pandas as pd\n",
    "import numpy as np\n",
    "import matplotlib.pyplot as plt\n",
    "import warnings\n",
    "warnings.filterwarnings(\"ignore\")"
   ]
  },
  {
   "cell_type": "code",
   "execution_count": 8,
   "id": "7c0d2954-9985-49ae-91da-f16ddbce58b9",
   "metadata": {
    "id": "7c0d2954-9985-49ae-91da-f16ddbce58b9"
   },
   "outputs": [
    {
     "ename": "FileNotFoundError",
     "evalue": "[Errno 2] No such file or directory: 'car_done.csv'",
     "output_type": "error",
     "traceback": [
      "\u001b[1;31m---------------------------------------------------------------------------\u001b[0m",
      "\u001b[1;31mFileNotFoundError\u001b[0m                         Traceback (most recent call last)",
      "Cell \u001b[1;32mIn[8], line 1\u001b[0m\n\u001b[1;32m----> 1\u001b[0m df \u001b[38;5;241m=\u001b[39m pd\u001b[38;5;241m.\u001b[39mread_csv(\u001b[38;5;124m\"\u001b[39m\u001b[38;5;124mcar_done.csv\u001b[39m\u001b[38;5;124m\"\u001b[39m)\n",
      "File \u001b[1;32m~\\anaconda3\\Lib\\site-packages\\pandas\\io\\parsers\\readers.py:1026\u001b[0m, in \u001b[0;36mread_csv\u001b[1;34m(filepath_or_buffer, sep, delimiter, header, names, index_col, usecols, dtype, engine, converters, true_values, false_values, skipinitialspace, skiprows, skipfooter, nrows, na_values, keep_default_na, na_filter, verbose, skip_blank_lines, parse_dates, infer_datetime_format, keep_date_col, date_parser, date_format, dayfirst, cache_dates, iterator, chunksize, compression, thousands, decimal, lineterminator, quotechar, quoting, doublequote, escapechar, comment, encoding, encoding_errors, dialect, on_bad_lines, delim_whitespace, low_memory, memory_map, float_precision, storage_options, dtype_backend)\u001b[0m\n\u001b[0;32m   1013\u001b[0m kwds_defaults \u001b[38;5;241m=\u001b[39m _refine_defaults_read(\n\u001b[0;32m   1014\u001b[0m     dialect,\n\u001b[0;32m   1015\u001b[0m     delimiter,\n\u001b[1;32m   (...)\u001b[0m\n\u001b[0;32m   1022\u001b[0m     dtype_backend\u001b[38;5;241m=\u001b[39mdtype_backend,\n\u001b[0;32m   1023\u001b[0m )\n\u001b[0;32m   1024\u001b[0m kwds\u001b[38;5;241m.\u001b[39mupdate(kwds_defaults)\n\u001b[1;32m-> 1026\u001b[0m \u001b[38;5;28;01mreturn\u001b[39;00m _read(filepath_or_buffer, kwds)\n",
      "File \u001b[1;32m~\\anaconda3\\Lib\\site-packages\\pandas\\io\\parsers\\readers.py:620\u001b[0m, in \u001b[0;36m_read\u001b[1;34m(filepath_or_buffer, kwds)\u001b[0m\n\u001b[0;32m    617\u001b[0m _validate_names(kwds\u001b[38;5;241m.\u001b[39mget(\u001b[38;5;124m\"\u001b[39m\u001b[38;5;124mnames\u001b[39m\u001b[38;5;124m\"\u001b[39m, \u001b[38;5;28;01mNone\u001b[39;00m))\n\u001b[0;32m    619\u001b[0m \u001b[38;5;66;03m# Create the parser.\u001b[39;00m\n\u001b[1;32m--> 620\u001b[0m parser \u001b[38;5;241m=\u001b[39m TextFileReader(filepath_or_buffer, \u001b[38;5;241m*\u001b[39m\u001b[38;5;241m*\u001b[39mkwds)\n\u001b[0;32m    622\u001b[0m \u001b[38;5;28;01mif\u001b[39;00m chunksize \u001b[38;5;129;01mor\u001b[39;00m iterator:\n\u001b[0;32m    623\u001b[0m     \u001b[38;5;28;01mreturn\u001b[39;00m parser\n",
      "File \u001b[1;32m~\\anaconda3\\Lib\\site-packages\\pandas\\io\\parsers\\readers.py:1620\u001b[0m, in \u001b[0;36mTextFileReader.__init__\u001b[1;34m(self, f, engine, **kwds)\u001b[0m\n\u001b[0;32m   1617\u001b[0m     \u001b[38;5;28mself\u001b[39m\u001b[38;5;241m.\u001b[39moptions[\u001b[38;5;124m\"\u001b[39m\u001b[38;5;124mhas_index_names\u001b[39m\u001b[38;5;124m\"\u001b[39m] \u001b[38;5;241m=\u001b[39m kwds[\u001b[38;5;124m\"\u001b[39m\u001b[38;5;124mhas_index_names\u001b[39m\u001b[38;5;124m\"\u001b[39m]\n\u001b[0;32m   1619\u001b[0m \u001b[38;5;28mself\u001b[39m\u001b[38;5;241m.\u001b[39mhandles: IOHandles \u001b[38;5;241m|\u001b[39m \u001b[38;5;28;01mNone\u001b[39;00m \u001b[38;5;241m=\u001b[39m \u001b[38;5;28;01mNone\u001b[39;00m\n\u001b[1;32m-> 1620\u001b[0m \u001b[38;5;28mself\u001b[39m\u001b[38;5;241m.\u001b[39m_engine \u001b[38;5;241m=\u001b[39m \u001b[38;5;28mself\u001b[39m\u001b[38;5;241m.\u001b[39m_make_engine(f, \u001b[38;5;28mself\u001b[39m\u001b[38;5;241m.\u001b[39mengine)\n",
      "File \u001b[1;32m~\\anaconda3\\Lib\\site-packages\\pandas\\io\\parsers\\readers.py:1880\u001b[0m, in \u001b[0;36mTextFileReader._make_engine\u001b[1;34m(self, f, engine)\u001b[0m\n\u001b[0;32m   1878\u001b[0m     \u001b[38;5;28;01mif\u001b[39;00m \u001b[38;5;124m\"\u001b[39m\u001b[38;5;124mb\u001b[39m\u001b[38;5;124m\"\u001b[39m \u001b[38;5;129;01mnot\u001b[39;00m \u001b[38;5;129;01min\u001b[39;00m mode:\n\u001b[0;32m   1879\u001b[0m         mode \u001b[38;5;241m+\u001b[39m\u001b[38;5;241m=\u001b[39m \u001b[38;5;124m\"\u001b[39m\u001b[38;5;124mb\u001b[39m\u001b[38;5;124m\"\u001b[39m\n\u001b[1;32m-> 1880\u001b[0m \u001b[38;5;28mself\u001b[39m\u001b[38;5;241m.\u001b[39mhandles \u001b[38;5;241m=\u001b[39m get_handle(\n\u001b[0;32m   1881\u001b[0m     f,\n\u001b[0;32m   1882\u001b[0m     mode,\n\u001b[0;32m   1883\u001b[0m     encoding\u001b[38;5;241m=\u001b[39m\u001b[38;5;28mself\u001b[39m\u001b[38;5;241m.\u001b[39moptions\u001b[38;5;241m.\u001b[39mget(\u001b[38;5;124m\"\u001b[39m\u001b[38;5;124mencoding\u001b[39m\u001b[38;5;124m\"\u001b[39m, \u001b[38;5;28;01mNone\u001b[39;00m),\n\u001b[0;32m   1884\u001b[0m     compression\u001b[38;5;241m=\u001b[39m\u001b[38;5;28mself\u001b[39m\u001b[38;5;241m.\u001b[39moptions\u001b[38;5;241m.\u001b[39mget(\u001b[38;5;124m\"\u001b[39m\u001b[38;5;124mcompression\u001b[39m\u001b[38;5;124m\"\u001b[39m, \u001b[38;5;28;01mNone\u001b[39;00m),\n\u001b[0;32m   1885\u001b[0m     memory_map\u001b[38;5;241m=\u001b[39m\u001b[38;5;28mself\u001b[39m\u001b[38;5;241m.\u001b[39moptions\u001b[38;5;241m.\u001b[39mget(\u001b[38;5;124m\"\u001b[39m\u001b[38;5;124mmemory_map\u001b[39m\u001b[38;5;124m\"\u001b[39m, \u001b[38;5;28;01mFalse\u001b[39;00m),\n\u001b[0;32m   1886\u001b[0m     is_text\u001b[38;5;241m=\u001b[39mis_text,\n\u001b[0;32m   1887\u001b[0m     errors\u001b[38;5;241m=\u001b[39m\u001b[38;5;28mself\u001b[39m\u001b[38;5;241m.\u001b[39moptions\u001b[38;5;241m.\u001b[39mget(\u001b[38;5;124m\"\u001b[39m\u001b[38;5;124mencoding_errors\u001b[39m\u001b[38;5;124m\"\u001b[39m, \u001b[38;5;124m\"\u001b[39m\u001b[38;5;124mstrict\u001b[39m\u001b[38;5;124m\"\u001b[39m),\n\u001b[0;32m   1888\u001b[0m     storage_options\u001b[38;5;241m=\u001b[39m\u001b[38;5;28mself\u001b[39m\u001b[38;5;241m.\u001b[39moptions\u001b[38;5;241m.\u001b[39mget(\u001b[38;5;124m\"\u001b[39m\u001b[38;5;124mstorage_options\u001b[39m\u001b[38;5;124m\"\u001b[39m, \u001b[38;5;28;01mNone\u001b[39;00m),\n\u001b[0;32m   1889\u001b[0m )\n\u001b[0;32m   1890\u001b[0m \u001b[38;5;28;01massert\u001b[39;00m \u001b[38;5;28mself\u001b[39m\u001b[38;5;241m.\u001b[39mhandles \u001b[38;5;129;01mis\u001b[39;00m \u001b[38;5;129;01mnot\u001b[39;00m \u001b[38;5;28;01mNone\u001b[39;00m\n\u001b[0;32m   1891\u001b[0m f \u001b[38;5;241m=\u001b[39m \u001b[38;5;28mself\u001b[39m\u001b[38;5;241m.\u001b[39mhandles\u001b[38;5;241m.\u001b[39mhandle\n",
      "File \u001b[1;32m~\\anaconda3\\Lib\\site-packages\\pandas\\io\\common.py:873\u001b[0m, in \u001b[0;36mget_handle\u001b[1;34m(path_or_buf, mode, encoding, compression, memory_map, is_text, errors, storage_options)\u001b[0m\n\u001b[0;32m    868\u001b[0m \u001b[38;5;28;01melif\u001b[39;00m \u001b[38;5;28misinstance\u001b[39m(handle, \u001b[38;5;28mstr\u001b[39m):\n\u001b[0;32m    869\u001b[0m     \u001b[38;5;66;03m# Check whether the filename is to be opened in binary mode.\u001b[39;00m\n\u001b[0;32m    870\u001b[0m     \u001b[38;5;66;03m# Binary mode does not support 'encoding' and 'newline'.\u001b[39;00m\n\u001b[0;32m    871\u001b[0m     \u001b[38;5;28;01mif\u001b[39;00m ioargs\u001b[38;5;241m.\u001b[39mencoding \u001b[38;5;129;01mand\u001b[39;00m \u001b[38;5;124m\"\u001b[39m\u001b[38;5;124mb\u001b[39m\u001b[38;5;124m\"\u001b[39m \u001b[38;5;129;01mnot\u001b[39;00m \u001b[38;5;129;01min\u001b[39;00m ioargs\u001b[38;5;241m.\u001b[39mmode:\n\u001b[0;32m    872\u001b[0m         \u001b[38;5;66;03m# Encoding\u001b[39;00m\n\u001b[1;32m--> 873\u001b[0m         handle \u001b[38;5;241m=\u001b[39m \u001b[38;5;28mopen\u001b[39m(\n\u001b[0;32m    874\u001b[0m             handle,\n\u001b[0;32m    875\u001b[0m             ioargs\u001b[38;5;241m.\u001b[39mmode,\n\u001b[0;32m    876\u001b[0m             encoding\u001b[38;5;241m=\u001b[39mioargs\u001b[38;5;241m.\u001b[39mencoding,\n\u001b[0;32m    877\u001b[0m             errors\u001b[38;5;241m=\u001b[39merrors,\n\u001b[0;32m    878\u001b[0m             newline\u001b[38;5;241m=\u001b[39m\u001b[38;5;124m\"\u001b[39m\u001b[38;5;124m\"\u001b[39m,\n\u001b[0;32m    879\u001b[0m         )\n\u001b[0;32m    880\u001b[0m     \u001b[38;5;28;01melse\u001b[39;00m:\n\u001b[0;32m    881\u001b[0m         \u001b[38;5;66;03m# Binary mode\u001b[39;00m\n\u001b[0;32m    882\u001b[0m         handle \u001b[38;5;241m=\u001b[39m \u001b[38;5;28mopen\u001b[39m(handle, ioargs\u001b[38;5;241m.\u001b[39mmode)\n",
      "\u001b[1;31mFileNotFoundError\u001b[0m: [Errno 2] No such file or directory: 'car_done.csv'"
     ]
    }
   ],
   "source": [
    "df = pd.read_csv(\"car_done.csv\")"
   ]
  },
  {
   "cell_type": "code",
   "execution_count": null,
   "id": "31b40ed2-d131-4a6d-abdf-275aa59bab7b",
   "metadata": {
    "colab": {
     "base_uri": "https://localhost:8080/",
     "height": 461
    },
    "id": "31b40ed2-d131-4a6d-abdf-275aa59bab7b",
    "outputId": "6613b749-67db-46b7-f099-6a071503d681"
   },
   "outputs": [],
   "source": [
    "df"
   ]
  },
  {
   "cell_type": "code",
   "execution_count": null,
   "id": "0797e2f1-14fc-4822-bad4-a6d147a7ade6",
   "metadata": {
    "colab": {
     "base_uri": "https://localhost:8080/"
    },
    "id": "0797e2f1-14fc-4822-bad4-a6d147a7ade6",
    "outputId": "fdae1f86-2e8c-4224-e581-8e8418a5726a"
   },
   "outputs": [],
   "source": [
    "df.info()"
   ]
  },
  {
   "cell_type": "code",
   "execution_count": null,
   "id": "c9e88eb3-712b-4b70-a59e-935e6f6bdf0f",
   "metadata": {
    "colab": {
     "base_uri": "https://localhost:8080/",
     "height": 617
    },
    "id": "c9e88eb3-712b-4b70-a59e-935e6f6bdf0f",
    "outputId": "207d8bee-846b-4d62-b7b0-92aa7baaf843"
   },
   "outputs": [],
   "source": [
    "#check the null values\n",
    "df.isnull().sum()"
   ]
  },
  {
   "cell_type": "code",
   "execution_count": null,
   "id": "5cd1909e-4535-4177-a3e4-dbd53f2e2cae",
   "metadata": {
    "colab": {
     "base_uri": "https://localhost:8080/",
     "height": 489
    },
    "id": "5cd1909e-4535-4177-a3e4-dbd53f2e2cae",
    "outputId": "7ca94852-cd6d-45c6-8222-6263d139caf6"
   },
   "outputs": [],
   "source": [
    "#return the value count of the column\n",
    "df[\"four_year_resale_value\"].value_counts()"
   ]
  },
  {
   "cell_type": "code",
   "execution_count": null,
   "id": "a135a9ab-52af-4fd0-bcde-7d934297e75f",
   "metadata": {
    "colab": {
     "base_uri": "https://localhost:8080/"
    },
    "id": "a135a9ab-52af-4fd0-bcde-7d934297e75f",
    "outputId": "b8b8b1a9-666e-4b8f-adc3-c97a2a0b8f58"
   },
   "outputs": [],
   "source": [
    "print(df[\"four_year_resale_value\"].describe())\n",
    "print(\"median\",df[\"four_year_resale_value\"].median())"
   ]
  },
  {
   "cell_type": "code",
   "execution_count": null,
   "id": "fb7855bc-f121-4d21-a72f-719a2b23ee4b",
   "metadata": {
    "id": "fb7855bc-f121-4d21-a72f-719a2b23ee4b"
   },
   "outputs": [],
   "source": [
    "df[\"four_year_resale_value\"].fillna(value = df[\"four_year_resale_value\"].median(), inplace=True)"
   ]
  },
  {
   "cell_type": "code",
   "execution_count": null,
   "id": "28e79d74-6fdf-4253-9e0f-a670319409dd",
   "metadata": {
    "colab": {
     "base_uri": "https://localhost:8080/",
     "height": 617
    },
    "id": "28e79d74-6fdf-4253-9e0f-a670319409dd",
    "outputId": "74646dde-6a06-4015-9df1-4751fb1038f2",
    "scrolled": true
   },
   "outputs": [],
   "source": [
    "df.isnull().sum()"
   ]
  },
  {
   "cell_type": "code",
   "execution_count": null,
   "id": "f128896b-e4ad-4988-8041-8478519ae62d",
   "metadata": {
    "id": "f128896b-e4ad-4988-8041-8478519ae62d"
   },
   "outputs": [],
   "source": [
    "df.ffill(inplace = True)"
   ]
  },
  {
   "cell_type": "code",
   "execution_count": null,
   "id": "bc0aadac-0541-4731-b03f-aa5042f1f698",
   "metadata": {
    "colab": {
     "base_uri": "https://localhost:8080/",
     "height": 617
    },
    "id": "bc0aadac-0541-4731-b03f-aa5042f1f698",
    "outputId": "8065809a-6e89-47da-927d-50ec5036d7c2"
   },
   "outputs": [],
   "source": [
    "df.isnull().sum()"
   ]
  },
  {
   "cell_type": "code",
   "execution_count": null,
   "id": "821a6f8b-0354-49d1-bc42-5652fb383f96",
   "metadata": {
    "colab": {
     "base_uri": "https://localhost:8080/",
     "height": 617
    },
    "id": "821a6f8b-0354-49d1-bc42-5652fb383f96",
    "outputId": "f9bc880b-91c2-49a6-9849-af27b059cc94"
   },
   "outputs": [],
   "source": [
    "#return number of unique values in each column\n",
    "df.nunique()"
   ]
  },
  {
   "cell_type": "code",
   "execution_count": null,
   "id": "fa19fbc9-ae77-4a92-9c51-60333c6f3263",
   "metadata": {
    "id": "fa19fbc9-ae77-4a92-9c51-60333c6f3263"
   },
   "outputs": [],
   "source": [
    "df.drop(columns=\"Unnamed: 0\",inplace = True)"
   ]
  },
  {
   "cell_type": "code",
   "execution_count": null,
   "id": "ce5e05c5-ca6e-453d-8a5d-288bb2f5fe7b",
   "metadata": {
    "colab": {
     "base_uri": "https://localhost:8080/"
    },
    "id": "ce5e05c5-ca6e-453d-8a5d-288bb2f5fe7b",
    "outputId": "cd8ec904-1df8-4cd3-a2b2-866089478710"
   },
   "outputs": [],
   "source": [
    "#print only columns\n",
    "df.columns"
   ]
  },
  {
   "cell_type": "code",
   "execution_count": null,
   "id": "2e9bdba7-398c-4edc-83dd-2214ba04988c",
   "metadata": {
    "colab": {
     "base_uri": "https://localhost:8080/"
    },
    "id": "2e9bdba7-398c-4edc-83dd-2214ba04988c",
    "outputId": "0cd45e49-a933-4391-8bce-88fd878a671a"
   },
   "outputs": [],
   "source": [
    "#duplicate values\n",
    "df.duplicated().sum()"
   ]
  },
  {
   "cell_type": "code",
   "execution_count": null,
   "id": "c6e4c74b-3e93-4c82-9fd9-28838988ec33",
   "metadata": {
    "colab": {
     "base_uri": "https://localhost:8080/"
    },
    "id": "c6e4c74b-3e93-4c82-9fd9-28838988ec33",
    "outputId": "1174de17-c87c-49c9-da21-28da2b6dc785"
   },
   "outputs": [],
   "source": [
    "#return specific type of data types\n",
    "df.select_dtypes([int,float]).columns"
   ]
  },
  {
   "cell_type": "code",
   "execution_count": null,
   "id": "a14925d6-f9c8-4d09-be67-2359c211e186",
   "metadata": {
    "colab": {
     "base_uri": "https://localhost:8080/",
     "height": 430
    },
    "id": "a14925d6-f9c8-4d09-be67-2359c211e186",
    "outputId": "623beb25-8442-4eb8-c51a-d96869d88704"
   },
   "outputs": [],
   "source": [
    "plt.boxplot(df[\"Sales_in_thousands\"])\n",
    "plt.show()"
   ]
  },
  {
   "cell_type": "code",
   "execution_count": null,
   "id": "9965e1df-c912-45d5-93af-6dbebdeb3bd0",
   "metadata": {
    "colab": {
     "base_uri": "https://localhost:8080/",
     "height": 432
    },
    "id": "9965e1df-c912-45d5-93af-6dbebdeb3bd0",
    "outputId": "e964c519-a9ef-4046-c97b-6fa981047db4"
   },
   "outputs": [],
   "source": [
    "plt.boxplot(df[\"four_year_resale_value\"])\n",
    "plt.show()"
   ]
  },
  {
   "cell_type": "code",
   "execution_count": null,
   "id": "91f06630-adfb-44b1-a90e-6a2d26901192",
   "metadata": {
    "colab": {
     "base_uri": "https://localhost:8080/",
     "height": 430
    },
    "id": "91f06630-adfb-44b1-a90e-6a2d26901192",
    "outputId": "e070323d-208c-4819-dbcd-e982be858e9e"
   },
   "outputs": [],
   "source": [
    "plt.boxplot(df[\"Price_in_thousands\"])\n",
    "plt.show()"
   ]
  },
  {
   "cell_type": "code",
   "execution_count": null,
   "id": "79dfa4c7-cdd8-4606-a321-01b6ce2ae827",
   "metadata": {
    "id": "79dfa4c7-cdd8-4606-a321-01b6ce2ae827"
   },
   "outputs": [],
   "source": [
    "#outlier removal\n",
    "def IQR(x):\n",
    "    q1=x.quantile(0.25)\n",
    "    q3=x.quantile(0.75)\n",
    "    iqr=q3-q1\n",
    "    lf=q1-(1.5*iqr)\n",
    "    uf=q3+(1.5*iqr)\n",
    "    print(\"LF\",lf)\n",
    "    print(\"UF\",uf)"
   ]
  },
  {
   "cell_type": "code",
   "execution_count": null,
   "id": "b70d34f3-505d-472a-8555-7b6f9ababc73",
   "metadata": {
    "colab": {
     "base_uri": "https://localhost:8080/"
    },
    "id": "b70d34f3-505d-472a-8555-7b6f9ababc73",
    "outputId": "6125b731-e57a-41a5-93ea-252c965fe73b"
   },
   "outputs": [],
   "source": [
    "IQR(df[\"Sales_in_thousands\"])"
   ]
  },
  {
   "cell_type": "code",
   "execution_count": null,
   "id": "c6d4c3fd-eff6-44b0-8763-19e16dc042ed",
   "metadata": {
    "id": "c6d4c3fd-eff6-44b0-8763-19e16dc042ed"
   },
   "outputs": [],
   "source": [
    "df[\"Sales_in_thousands\"] = np.where(df[\"Sales_in_thousands\"]>148.719,148.719,df[\"Sales_in_thousands\"])"
   ]
  },
  {
   "cell_type": "code",
   "execution_count": null,
   "id": "659bdf65-afcd-4947-9c2f-54f33d77f3f3",
   "metadata": {
    "colab": {
     "base_uri": "https://localhost:8080/"
    },
    "id": "659bdf65-afcd-4947-9c2f-54f33d77f3f3",
    "outputId": "e87cf3a1-83f0-4169-eeb9-59d07d84892c"
   },
   "outputs": [],
   "source": [
    "IQR(df[\"four_year_resale_value\"])"
   ]
  },
  {
   "cell_type": "code",
   "execution_count": null,
   "id": "027f6938-df55-4227-9617-9a605c5b3d06",
   "metadata": {
    "id": "027f6938-df55-4227-9617-9a605c5b3d06"
   },
   "outputs": [],
   "source": [
    "df[\"four_year_resale_value\"] = np.where(df[\"four_year_resale_value\"]>26.5325,26.5325,df[\"four_year_resale_value\"])"
   ]
  },
  {
   "cell_type": "code",
   "execution_count": null,
   "id": "1004fe4c-32b7-479d-8ba2-15894f37be29",
   "metadata": {
    "colab": {
     "base_uri": "https://localhost:8080/"
    },
    "id": "1004fe4c-32b7-479d-8ba2-15894f37be29",
    "outputId": "8c37da14-a6fd-4063-ef5d-12055899fa37"
   },
   "outputs": [],
   "source": [
    "IQR(df[\"Price_in_thousands\"])"
   ]
  },
  {
   "cell_type": "code",
   "execution_count": null,
   "id": "1df6e184-1d3f-4eaa-9343-585b05f695eb",
   "metadata": {
    "id": "1df6e184-1d3f-4eaa-9343-585b05f695eb"
   },
   "outputs": [],
   "source": [
    "df[\"Price_in_thousands\"] = np.where(df[\"Price_in_thousands\"]>52.6075,52.6075,df[\"Price_in_thousands\"])"
   ]
  },
  {
   "cell_type": "code",
   "execution_count": null,
   "id": "793941f2-3a18-47ba-a60b-c73ba83a0b07",
   "metadata": {
    "colab": {
     "base_uri": "https://localhost:8080/",
     "height": 430
    },
    "id": "793941f2-3a18-47ba-a60b-c73ba83a0b07",
    "outputId": "f2d4fbec-3933-4f41-86bb-806b0c40c93b"
   },
   "outputs": [],
   "source": [
    "plt.boxplot(df[\"Sales_in_thousands\"])\n",
    "plt.show()"
   ]
  },
  {
   "cell_type": "code",
   "execution_count": null,
   "id": "73e2e698-659f-4718-94ca-6d1b14b0930a",
   "metadata": {
    "colab": {
     "base_uri": "https://localhost:8080/",
     "height": 430
    },
    "id": "73e2e698-659f-4718-94ca-6d1b14b0930a",
    "outputId": "fc51d2d4-da0e-43d9-8f47-16f379952cce"
   },
   "outputs": [],
   "source": [
    "plt.boxplot(df[\"four_year_resale_value\"])\n",
    "plt.show()"
   ]
  },
  {
   "cell_type": "code",
   "execution_count": null,
   "id": "f7d4e573-2030-46ca-9a3e-cfc0f5a34e5e",
   "metadata": {
    "colab": {
     "base_uri": "https://localhost:8080/",
     "height": 430
    },
    "id": "f7d4e573-2030-46ca-9a3e-cfc0f5a34e5e",
    "outputId": "4761faf5-9ec5-4a93-fec2-0ba1bb6eeb2b"
   },
   "outputs": [],
   "source": [
    "plt.boxplot(df[\"Price_in_thousands\"])\n",
    "plt.show()"
   ]
  },
  {
   "cell_type": "code",
   "execution_count": null,
   "id": "61444357-7bd9-41e2-8ca8-6d1050f1cb85",
   "metadata": {
    "colab": {
     "base_uri": "https://localhost:8080/"
    },
    "id": "61444357-7bd9-41e2-8ca8-6d1050f1cb85",
    "outputId": "35ae0d75-2a04-4fbf-a67c-40a9c2d3e6b8"
   },
   "outputs": [],
   "source": [
    "IQR(df['Engine_size'])"
   ]
  },
  {
   "cell_type": "code",
   "execution_count": null,
   "id": "c77e4465-83bd-4f67-87c2-1db9e01625ab",
   "metadata": {
    "id": "c77e4465-83bd-4f67-87c2-1db9e01625ab"
   },
   "outputs": [],
   "source": [
    "df['Engine_size'] = np.where(df['Engine_size']>5.3,5.3,df['Engine_size'])"
   ]
  },
  {
   "cell_type": "code",
   "execution_count": null,
   "id": "0be9462e-b26f-4547-84bd-da80d539b85c",
   "metadata": {
    "colab": {
     "base_uri": "https://localhost:8080/",
     "height": 430
    },
    "id": "0be9462e-b26f-4547-84bd-da80d539b85c",
    "outputId": "e9a3758c-d8b5-425f-d10c-af03a8f922f4"
   },
   "outputs": [],
   "source": [
    "plt.boxplot(df['Engine_size'])\n",
    "plt.show()"
   ]
  },
  {
   "cell_type": "code",
   "execution_count": null,
   "id": "6229f503-89d0-49c3-a57f-3f90d16950c0",
   "metadata": {
    "colab": {
     "base_uri": "https://localhost:8080/"
    },
    "id": "6229f503-89d0-49c3-a57f-3f90d16950c0",
    "outputId": "8ccb115f-97f5-4291-8b38-0e3df3e2f354"
   },
   "outputs": [],
   "source": [
    "IQR(df[\"Horsepower\"])"
   ]
  },
  {
   "cell_type": "code",
   "execution_count": null,
   "id": "1808f807-6460-4f13-81ca-d73ceeef2004",
   "metadata": {
    "id": "1808f807-6460-4f13-81ca-d73ceeef2004"
   },
   "outputs": [],
   "source": [
    "df[\"Horsepower\"] = np.where(df[\"Horsepower\"]>312.5,312.5,df[\"Horsepower\"])"
   ]
  },
  {
   "cell_type": "code",
   "execution_count": null,
   "id": "72b033b4-25ac-414d-afe2-fb58726458fc",
   "metadata": {
    "colab": {
     "base_uri": "https://localhost:8080/",
     "height": 430
    },
    "id": "72b033b4-25ac-414d-afe2-fb58726458fc",
    "outputId": "870966f0-cb5e-49db-8023-f0832fc833f7"
   },
   "outputs": [],
   "source": [
    "plt.boxplot(df[\"Horsepower\"])\n",
    "plt.show()"
   ]
  },
  {
   "cell_type": "code",
   "execution_count": null,
   "id": "1edfa22b-1c35-4e76-9901-7aa408e94553",
   "metadata": {
    "colab": {
     "base_uri": "https://localhost:8080/"
    },
    "id": "1edfa22b-1c35-4e76-9901-7aa408e94553",
    "outputId": "316397cb-3636-496d-ce59-7c4ed0690fd9"
   },
   "outputs": [],
   "source": [
    "IQR(df[\"Wheelbase\"])"
   ]
  },
  {
   "cell_type": "code",
   "execution_count": null,
   "id": "19b359b4-8aaa-4341-8b13-cf0d7d151c84",
   "metadata": {
    "id": "19b359b4-8aaa-4341-8b13-cf0d7d151c84"
   },
   "outputs": [],
   "source": [
    "df[\"Wheelbase\"] = np.where(df[\"Wheelbase\"]>126.0,126.0,df[\"Wheelbase\"])"
   ]
  },
  {
   "cell_type": "code",
   "execution_count": null,
   "id": "bfea471e-5c57-46fd-b5db-92bfac67ea45",
   "metadata": {
    "colab": {
     "base_uri": "https://localhost:8080/",
     "height": 430
    },
    "id": "bfea471e-5c57-46fd-b5db-92bfac67ea45",
    "outputId": "4ef1922f-4191-4260-b592-fa521bb6c9de"
   },
   "outputs": [],
   "source": [
    "plt.boxplot(df[\"Wheelbase\"])\n",
    "plt.show()"
   ]
  },
  {
   "cell_type": "code",
   "execution_count": null,
   "id": "057464e2-93b3-4079-a61f-729ee654c6cd",
   "metadata": {
    "colab": {
     "base_uri": "https://localhost:8080/"
    },
    "id": "057464e2-93b3-4079-a61f-729ee654c6cd",
    "outputId": "b8befdf6-8743-45c5-d591-8b6375f2f6cf"
   },
   "outputs": [],
   "source": [
    "IQR(df[\"Width\"])"
   ]
  },
  {
   "cell_type": "code",
   "execution_count": null,
   "id": "27b2bd64-9302-4f3b-9cd9-7ad781931a1e",
   "metadata": {
    "id": "27b2bd64-9302-4f3b-9cd9-7ad781931a1e"
   },
   "outputs": [],
   "source": [
    "df[\"Width\"] = np.where(df[\"Width\"]>81.1499,81.1499,df[\"Width\"])"
   ]
  },
  {
   "cell_type": "code",
   "execution_count": null,
   "id": "669f0e3f-e4de-45ae-97df-1b7a79920829",
   "metadata": {
    "colab": {
     "base_uri": "https://localhost:8080/"
    },
    "id": "669f0e3f-e4de-45ae-97df-1b7a79920829",
    "outputId": "b2ed8ed1-f99b-49b2-87b7-806f1c09d006"
   },
   "outputs": [],
   "source": [
    "IQR(df[\"Length\"])"
   ]
  },
  {
   "cell_type": "code",
   "execution_count": null,
   "id": "e5131639-b2c9-4754-b164-b714e78a2557",
   "metadata": {
    "id": "e5131639-b2c9-4754-b164-b714e78a2557"
   },
   "outputs": [],
   "source": [
    "df[\"Length\"] = np.where(df[\"Length\"]>224.0999,224.0999,df[\"Length\"])"
   ]
  },
  {
   "cell_type": "code",
   "execution_count": null,
   "id": "dfbbe9df-7e86-47da-8038-f350a93a503c",
   "metadata": {
    "colab": {
     "base_uri": "https://localhost:8080/"
    },
    "id": "dfbbe9df-7e86-47da-8038-f350a93a503c",
    "outputId": "a2f507eb-c76e-4420-9a6e-d4acc78734ea"
   },
   "outputs": [],
   "source": [
    "IQR(df[\"Curb_weight\"])"
   ]
  },
  {
   "cell_type": "code",
   "execution_count": null,
   "id": "a4ea76cf-dffa-4174-a23c-b7297be9eb7c",
   "metadata": {
    "id": "a4ea76cf-dffa-4174-a23c-b7297be9eb7c"
   },
   "outputs": [],
   "source": [
    "df[\"Curb_weight\"] = np.where(df[\"Curb_weight\"]>5.09,5.09,df[\"Curb_weight\"])"
   ]
  },
  {
   "cell_type": "code",
   "execution_count": null,
   "id": "92bc2aae-dcb9-4fed-8053-f31cfada13f7",
   "metadata": {
    "colab": {
     "base_uri": "https://localhost:8080/"
    },
    "id": "92bc2aae-dcb9-4fed-8053-f31cfada13f7",
    "outputId": "06ed952c-0a59-4a95-f9e1-5730268295a0"
   },
   "outputs": [],
   "source": [
    "IQR(df[\"Fuel_capacity\"])"
   ]
  },
  {
   "cell_type": "code",
   "execution_count": null,
   "id": "8cc21367-a6d8-460b-83db-b6ab438b07c0",
   "metadata": {
    "id": "8cc21367-a6d8-460b-83db-b6ab438b07c0"
   },
   "outputs": [],
   "source": [
    "df[\"Fuel_capacity\"] = np.where(df[\"Fuel_capacity\"]>25.0499,25.0499,df[\"Fuel_capacity\"])"
   ]
  },
  {
   "cell_type": "code",
   "execution_count": null,
   "id": "a1151d5f-e013-43e0-8390-c9b3a34cfd10",
   "metadata": {
    "colab": {
     "base_uri": "https://localhost:8080/"
    },
    "id": "a1151d5f-e013-43e0-8390-c9b3a34cfd10",
    "outputId": "a42d53ec-aed0-457c-bf72-abd52f8ecbbd"
   },
   "outputs": [],
   "source": [
    "IQR(df[\"Fuel_efficiency\"])"
   ]
  },
  {
   "cell_type": "code",
   "execution_count": null,
   "id": "71f990c2-6f34-4fab-8200-86884a49f801",
   "metadata": {
    "id": "71f990c2-6f34-4fab-8200-86884a49f801"
   },
   "outputs": [],
   "source": [
    "df[\"Fuel_efficiency\"] = np.where(df[\"Fuel_efficiency\"]>33.5,33.5,df[\"Fuel_efficiency\"])"
   ]
  },
  {
   "cell_type": "code",
   "execution_count": null,
   "id": "6f7df6af-3f06-487c-9279-187499f82685",
   "metadata": {
    "colab": {
     "base_uri": "https://localhost:8080/"
    },
    "id": "6f7df6af-3f06-487c-9279-187499f82685",
    "outputId": "bf1c6147-f5ff-441f-bb3c-3f5108944b8d"
   },
   "outputs": [],
   "source": [
    "IQR(df[\"Power_perf_factor\"])"
   ]
  },
  {
   "cell_type": "code",
   "execution_count": null,
   "id": "2a348bdf-b737-4cdb-9ec8-51823aa04eed",
   "metadata": {
    "id": "2a348bdf-b737-4cdb-9ec8-51823aa04eed"
   },
   "outputs": [],
   "source": [
    "df[\"Power_perf_factor\"] = np.where(df[\"Power_perf_factor\"]>134.4380,134.4380,df[\"Power_perf_factor\"])"
   ]
  },
  {
   "cell_type": "code",
   "execution_count": null,
   "id": "755ecf7f-76b1-48ca-8831-5baf1bf83e9d",
   "metadata": {
    "id": "755ecf7f-76b1-48ca-8831-5baf1bf83e9d"
   },
   "outputs": [],
   "source": [
    "import seaborn as sns\n",
    "def outliers(x):\n",
    "    y=x.select_dtypes(include=[int,float])\n",
    "    for i in y:\n",
    "        sns.boxplot(x=df[i])\n",
    "        plt.title(i)\n",
    "        plt.show()"
   ]
  },
  {
   "cell_type": "code",
   "execution_count": null,
   "id": "789ba14f-9eb8-4268-b12f-12d6c979e6ce",
   "metadata": {
    "colab": {
     "base_uri": "https://localhost:8080/",
     "height": 1000
    },
    "id": "789ba14f-9eb8-4268-b12f-12d6c979e6ce",
    "outputId": "4d978a1c-f31a-4657-e4c1-06821cae94fe"
   },
   "outputs": [],
   "source": [
    "outliers(df)"
   ]
  },
  {
   "cell_type": "code",
   "execution_count": null,
   "id": "ef1709f2-d49e-485d-8781-9ccf31492b4d",
   "metadata": {
    "colab": {
     "base_uri": "https://localhost:8080/",
     "height": 1000
    },
    "id": "ef1709f2-d49e-485d-8781-9ccf31492b4d",
    "outputId": "fd95cef8-85de-4f16-929d-5660c605601f"
   },
   "outputs": [],
   "source": [
    "df[\"Manufacturer\"].value_counts()"
   ]
  },
  {
   "cell_type": "code",
   "execution_count": null,
   "id": "Z4AgsSJimHfD",
   "metadata": {
    "colab": {
     "base_uri": "https://localhost:8080/"
    },
    "id": "Z4AgsSJimHfD",
    "outputId": "11d0acba-6dc2-46f5-c073-7f6d594bc09a"
   },
   "outputs": [],
   "source": [
    "df[\"Manufacturer\"].nunique()"
   ]
  },
  {
   "cell_type": "code",
   "execution_count": null,
   "id": "h38Vw5cAmjy_",
   "metadata": {
    "colab": {
     "base_uri": "https://localhost:8080/"
    },
    "id": "h38Vw5cAmjy_",
    "outputId": "919e8e7b-e9b5-4313-d205-1337618b15e1"
   },
   "outputs": [],
   "source": [
    "df[\"Model\"].nunique()"
   ]
  },
  {
   "cell_type": "code",
   "execution_count": null,
   "id": "GdE7OddvndxM",
   "metadata": {
    "id": "GdE7OddvndxM"
   },
   "outputs": [],
   "source": [
    "#Always remove date column in linear regression data set\n",
    "#We use it in time series"
   ]
  },
  {
   "cell_type": "code",
   "execution_count": null,
   "id": "QwnTxQtUna2F",
   "metadata": {
    "colab": {
     "base_uri": "https://localhost:8080/",
     "height": 178
    },
    "id": "QwnTxQtUna2F",
    "outputId": "9a3186ad-b52d-48dd-a248-23cb7ba6e1a2"
   },
   "outputs": [],
   "source": [
    "df[\"Vehicle_type\"].value_counts()"
   ]
  },
  {
   "cell_type": "code",
   "execution_count": null,
   "id": "q4hRM9R5n-30",
   "metadata": {
    "colab": {
     "base_uri": "https://localhost:8080/",
     "height": 524
    },
    "id": "q4hRM9R5n-30",
    "outputId": "7f277851-03fd-4241-c815-dba805a924a0"
   },
   "outputs": [],
   "source": [
    "df[\"Vehicle_type\"].value_counts().plot.bar()"
   ]
  },
  {
   "cell_type": "code",
   "execution_count": null,
   "id": "YhHGiNt3oGNc",
   "metadata": {
    "id": "YhHGiNt3oGNc"
   },
   "outputs": [],
   "source": [
    "df[\"Vehicle_type\"] = np.where(df[\"Vehicle_type\"] == \"Car\",1,0)"
   ]
  },
  {
   "cell_type": "code",
   "execution_count": null,
   "id": "r38nNtChpC8S",
   "metadata": {
    "colab": {
     "base_uri": "https://localhost:8080/",
     "height": 178
    },
    "id": "r38nNtChpC8S",
    "outputId": "d661057e-fa72-4892-f15c-6e6dba4c00c5"
   },
   "outputs": [],
   "source": [
    "df[\"Vehicle_type\"].value_counts()"
   ]
  },
  {
   "cell_type": "code",
   "execution_count": null,
   "id": "BBbc8C8Ppeoa",
   "metadata": {
    "colab": {
     "base_uri": "https://localhost:8080/",
     "height": 461
    },
    "id": "BBbc8C8Ppeoa",
    "outputId": "e7b3f6f2-9255-4989-a019-42e0592cbb90"
   },
   "outputs": [],
   "source": [
    "df[\"Vehicle_type\"].value_counts().plot.bar()"
   ]
  },
  {
   "cell_type": "code",
   "execution_count": null,
   "id": "XdwuuLzgqGBQ",
   "metadata": {
    "id": "XdwuuLzgqGBQ"
   },
   "outputs": [],
   "source": [
    "#Removes outlier with IQR(Inter Quartile Range  Q3--) formula\n",
    "#Q3 is 75percentile if numerical column\n",
    "#Box plot used to dispaly outliers\n",
    "#Null is filled to determine the outliers"
   ]
  },
  {
   "cell_type": "code",
   "execution_count": null,
   "id": "uK-jr56yqj5d",
   "metadata": {
    "id": "uK-jr56yqj5d"
   },
   "outputs": [],
   "source": [
    "corf = df.select_dtypes(include = [int,float]).corr()\n",
    "#correlation value -1 low correlated  to 1 highly correlated"
   ]
  },
  {
   "cell_type": "code",
   "execution_count": null,
   "id": "2LK5Ol1qq5Nc",
   "metadata": {
    "colab": {
     "base_uri": "https://localhost:8080/",
     "height": 599
    },
    "id": "2LK5Ol1qq5Nc",
    "outputId": "519cf430-2fb2-40d7-acb1-ab6aa6922bdc"
   },
   "outputs": [],
   "source": [
    "sns.heatmap(corf)"
   ]
  },
  {
   "cell_type": "code",
   "execution_count": null,
   "id": "Avzw3q_iq08k",
   "metadata": {
    "colab": {
     "base_uri": "https://localhost:8080/",
     "height": 1000
    },
    "id": "Avzw3q_iq08k",
    "outputId": "1d2ea22d-1115-40b5-e836-9a167cf8b579"
   },
   "outputs": [],
   "source": [
    "plt.figure(figsize = (15,15))\n",
    "sns.heatmap(corf,annot = True)"
   ]
  },
  {
   "cell_type": "code",
   "execution_count": null,
   "id": "F-xA1BtXtMld",
   "metadata": {
    "colab": {
     "base_uri": "https://localhost:8080/",
     "height": 449
    },
    "id": "F-xA1BtXtMld",
    "outputId": "5348a19b-bd46-4892-820a-ed33315af57c"
   },
   "outputs": [],
   "source": [
    "plt.scatter(df[\"Horsepower\"],df[\"Power_perf_factor\"])\n",
    "plt.xlabel(\"HP\")\n",
    "plt.ylabel(\"PPF\")\n",
    "plt.show()"
   ]
  },
  {
   "cell_type": "code",
   "execution_count": null,
   "id": "aXf-ZMQ2uRnq",
   "metadata": {
    "colab": {
     "base_uri": "https://localhost:8080/",
     "height": 449
    },
    "id": "aXf-ZMQ2uRnq",
    "outputId": "eac38d56-127e-4442-cad5-219c5b302b73"
   },
   "outputs": [],
   "source": [
    "plt.scatter(df[\"Curb_weight\"],df[\"Fuel_efficiency\"])\n",
    "plt.xlabel(\"CW\")\n",
    "plt.ylabel(\"FE\")\n",
    "plt.show()"
   ]
  },
  {
   "cell_type": "code",
   "execution_count": null,
   "id": "j61HnclMutUd",
   "metadata": {
    "colab": {
     "base_uri": "https://localhost:8080/",
     "height": 449
    },
    "id": "j61HnclMutUd",
    "outputId": "4fc7f3c4-0c4f-4dae-804f-1f816631a00b"
   },
   "outputs": [],
   "source": [
    "plt.scatter(df[\"Engine_size\"],df[\"Fuel_efficiency\"])\n",
    "plt.xlabel(\"ES\")\n",
    "plt.ylabel(\"FE\")\n",
    "plt.show()"
   ]
  },
  {
   "cell_type": "code",
   "execution_count": null,
   "id": "aVHQv9XTvxzZ",
   "metadata": {
    "colab": {
     "base_uri": "https://localhost:8080/"
    },
    "id": "aVHQv9XTvxzZ",
    "outputId": "fc90c65b-05e1-4068-bbde-18bf0039dcfb"
   },
   "outputs": [],
   "source": [
    "df.columns"
   ]
  },
  {
   "cell_type": "code",
   "execution_count": null,
   "id": "8cwboDgivJ43",
   "metadata": {
    "id": "8cwboDgivJ43"
   },
   "outputs": [],
   "source": [
    "x = df[[ 'four_year_resale_value',\n",
    "       'Vehicle_type', 'Price_in_thousands', 'Engine_size', 'Horsepower',\n",
    "       'Wheelbase', 'Width', 'Length', 'Curb_weight', 'Fuel_capacity',\n",
    "       'Fuel_efficiency', 'Power_perf_factor']]              #Independent Values\n",
    "y = df[\"Sales_in_thousands\"]#Predicted value"
   ]
  },
  {
   "cell_type": "code",
   "execution_count": null,
   "id": "nJplqHO0wl9j",
   "metadata": {
    "id": "nJplqHO0wl9j"
   },
   "outputs": [],
   "source": [
    "from sklearn.model_selection import train_test_split as tts\n",
    "#train data is always more than test\n",
    "X_train,x_test,y_train,y_test = tts(x,y,test_size = 0.2,random_state = 44)\n",
    "from sklearn.linear_model import LinearRegression"
   ]
  },
  {
   "cell_type": "code",
   "execution_count": null,
   "id": "oRKQuxdPyqVn",
   "metadata": {
    "id": "oRKQuxdPyqVn"
   },
   "outputs": [],
   "source": [
    "lr = LinearRegression()"
   ]
  },
  {
   "cell_type": "code",
   "execution_count": null,
   "id": "QGMqOXDEysv1",
   "metadata": {
    "colab": {
     "base_uri": "https://localhost:8080/",
     "height": 80
    },
    "id": "QGMqOXDEysv1",
    "outputId": "efdc9080-1a47-458a-9de4-1046289ebdbd"
   },
   "outputs": [],
   "source": [
    "lr.fit(X_train,y_train) #model fitting"
   ]
  },
  {
   "cell_type": "code",
   "execution_count": null,
   "id": "PCopz4-Hzx7I",
   "metadata": {
    "colab": {
     "base_uri": "https://localhost:8080/"
    },
    "id": "PCopz4-Hzx7I",
    "outputId": "546a7116-4c18-41f6-923c-1f50ee7b4ba0"
   },
   "outputs": [],
   "source": [
    "lr.score(X_train,y_train)        #R^2 varying between 29 to 45\n",
    "#R^2 = coefficient of determination liniear model humare avg model se kitna accha perform kar rha hai\n",
    "#R^2 = avg MSE- Linear MSE/Avg Model MSE"
   ]
  },
  {
   "cell_type": "code",
   "execution_count": null,
   "id": "aZBABmPn43Th",
   "metadata": {
    "colab": {
     "base_uri": "https://localhost:8080/"
    },
    "id": "aZBABmPn43Th",
    "outputId": "cfca0524-6e07-4256-bb71-db2d38ca43a8"
   },
   "outputs": [],
   "source": [
    "lr.predict(X_train)"
   ]
  },
  {
   "cell_type": "code",
   "execution_count": null,
   "id": "sB7sS_Wd5HjS",
   "metadata": {
    "id": "sB7sS_Wd5HjS"
   },
   "outputs": [],
   "source": [
    "pre = lr.predict(X_train)\n",
    "actual  = y_train"
   ]
  },
  {
   "cell_type": "code",
   "execution_count": null,
   "id": "sMdhOpJO5IjE",
   "metadata": {
    "id": "sMdhOpJO5IjE"
   },
   "outputs": [],
   "source": [
    "error = actual -pre\n",
    "mse = np.mean(np.square(error))\n",
    "RMSE = np.sqrt(mse)"
   ]
  },
  {
   "cell_type": "code",
   "execution_count": null,
   "id": "5PoXGhI45Tel",
   "metadata": {
    "colab": {
     "base_uri": "https://localhost:8080/"
    },
    "id": "5PoXGhI45Tel",
    "outputId": "d1cd1db6-483a-4875-ec06-e4f4c93d25d7"
   },
   "outputs": [],
   "source": [
    "print(\"MSE\",mse)\n",
    "print(\"RMSE\",RMSE)"
   ]
  },
  {
   "cell_type": "code",
   "execution_count": null,
   "id": "H-cicxSB5kAf",
   "metadata": {
    "id": "H-cicxSB5kAf"
   },
   "outputs": [],
   "source": [
    "from sklearn.metrics import mean_squared_error as mse, root_mean_squared_error as rmse"
   ]
  },
  {
   "cell_type": "code",
   "execution_count": null,
   "id": "egQYyowh6Eip",
   "metadata": {
    "colab": {
     "base_uri": "https://localhost:8080/"
    },
    "id": "egQYyowh6Eip",
    "outputId": "be0784d7-507d-4c49-ebde-c23fdb55460d"
   },
   "outputs": [],
   "source": [
    "print(\"MSE\",mse(actual,pre))\n",
    "print(\"RMSE\",rmse(actual,pre))\n"
   ]
  },
  {
   "cell_type": "code",
   "execution_count": null,
   "id": "XY75vo-t62OR",
   "metadata": {
    "id": "XY75vo-t62OR"
   },
   "outputs": [],
   "source": [
    "er = df[\"Sales_in_thousands\"]-df[\"Sales_in_thousands\"].mean()\n",
    "avg_mse = np.mean(np.square(er))\n",
    "avg_rmse = np.sqrt(avg_mse)                   # manual formaula"
   ]
  },
  {
   "cell_type": "code",
   "execution_count": null,
   "id": "v4FZEK0Y7-S7",
   "metadata": {
    "colab": {
     "base_uri": "https://localhost:8080/",
     "height": 158
    },
    "id": "v4FZEK0Y7-S7",
    "outputId": "7b0ff12e-9ab7-4a46-8998-9de27d83d717"
   },
   "outputs": [],
   "source": [
    "#r2 = (avg_mse-mse)/avg_mse\n",
    "#print(\"R Square \",r2)"
   ]
  },
  {
   "cell_type": "code",
   "execution_count": null,
   "id": "KDL_uMbD7pZ_",
   "metadata": {
    "id": "KDL_uMbD7pZ_"
   },
   "outputs": [],
   "source": [
    "er = y_train - lr.predict(X_train)\n",
    "mse = np.mean(np.square(er))\n",
    "rmse = np.sqrt(mse)"
   ]
  },
  {
   "cell_type": "markdown",
   "id": "6xiQvpdq81cz",
   "metadata": {
    "id": "6xiQvpdq81cz"
   },
   "source": [
    "#Imporove R^2 Of Model\n"
   ]
  },
  {
   "cell_type": "code",
   "execution_count": null,
   "id": "KG_N41mG9Ehp",
   "metadata": {
    "colab": {
     "base_uri": "https://localhost:8080/",
     "height": 450
    },
    "id": "KG_N41mG9Ehp",
    "outputId": "388f97ec-6708-4b50-ff72-2eef5e0ab965"
   },
   "outputs": [],
   "source": [
    "sns.distplot(np.log(df[\"Sales_in_thousands\"]))\n",
    "plt.show()"
   ]
  },
  {
   "cell_type": "code",
   "execution_count": null,
   "id": "j13b5nNr9g0B",
   "metadata": {
    "id": "j13b5nNr9g0B"
   },
   "outputs": [],
   "source": [
    "X = df[[ 'four_year_resale_value',\n",
    "       'Vehicle_type', 'Price_in_thousands', 'Engine_size', 'Horsepower',\n",
    "       'Wheelbase', 'Width', 'Length', 'Curb_weight', 'Fuel_capacity',\n",
    "       'Fuel_efficiency', 'Power_perf_factor']]              #Independent Values\n",
    "y = np.log1p(df[\"Sales_in_thousands\"])#Predicted value"
   ]
  },
  {
   "cell_type": "code",
   "execution_count": null,
   "id": "DGKdGOok9yln",
   "metadata": {
    "id": "DGKdGOok9yln"
   },
   "outputs": [],
   "source": [
    "X_train,x_test,y_train,y_test = tts(x,y,test_size = 0.2,random_state = 60)"
   ]
  },
  {
   "cell_type": "code",
   "execution_count": null,
   "id": "F7H3KSOa939Y",
   "metadata": {
    "id": "F7H3KSOa939Y"
   },
   "outputs": [],
   "source": [
    "lr1 = LinearRegression()"
   ]
  },
  {
   "cell_type": "code",
   "execution_count": null,
   "id": "7aQHQ-8U96xE",
   "metadata": {
    "id": "7aQHQ-8U96xE"
   },
   "outputs": [],
   "source": [
    "lr1.fit(X_train,y_train)"
   ]
  },
  {
   "cell_type": "code",
   "execution_count": null,
   "id": "0yr_pTaN-CLe",
   "metadata": {
    "id": "0yr_pTaN-CLe"
   },
   "outputs": [],
   "source": [
    "lr1.score(X_train,y_train)"
   ]
  },
  {
   "cell_type": "code",
   "execution_count": null,
   "id": "bb4594be-9275-4b92-804d-8cd4a50b8340",
   "metadata": {},
   "outputs": [],
   "source": []
  }
 ],
 "metadata": {
  "colab": {
   "provenance": []
  },
  "kernelspec": {
   "display_name": "Python [conda env:base] *",
   "language": "python",
   "name": "conda-base-py"
  },
  "language_info": {
   "codemirror_mode": {
    "name": "ipython",
    "version": 3
   },
   "file_extension": ".py",
   "mimetype": "text/x-python",
   "name": "python",
   "nbconvert_exporter": "python",
   "pygments_lexer": "ipython3",
   "version": "3.13.5"
  }
 },
 "nbformat": 4,
 "nbformat_minor": 5
}
